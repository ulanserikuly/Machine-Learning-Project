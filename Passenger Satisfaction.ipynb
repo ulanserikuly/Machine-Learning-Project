{
 "cells": [
  {
   "cell_type": "markdown",
   "metadata": {},
   "source": [
    "# MACHINE LEARNING PROJECT"
   ]
  },
  {
   "cell_type": "markdown",
   "metadata": {},
   "source": [
    "## Airline Passenger Satisfaction"
   ]
  },
  {
   "cell_type": "markdown",
   "metadata": {},
   "source": [
    "### Shaikyp Ulan (944462)"
   ]
  },
  {
   "cell_type": "markdown",
   "metadata": {},
   "source": [
    "## Overview"
   ]
  },
  {
   "cell_type": "markdown",
   "metadata": {},
   "source": [
    "The dataset for this project consists of airline passengers, their experience of the flight and their satisfaction will be used. Whilst the dataset has a pre-existing test dataset, the bulk of the focus will be on the train dataset. It should be noted that the test dataset and the train dataset have the same columns and the test dataset is around 20% of the whole dataset (test and train dataset).The data set has 25,975 data points and 25 columns."
   ]
  },
  {
   "cell_type": "markdown",
   "metadata": {},
   "source": [
    "## 1. EXPLORATORY DATA ANALYSIS:"
   ]
  },
  {
   "cell_type": "code",
   "execution_count": 70,
   "metadata": {},
   "outputs": [],
   "source": [
    "import pandas as pd\n",
    "from sklearn.impute import KNNImputer\n",
    "import matplotlib.pyplot as plt\n",
    "from matplotlib import pyplot\n",
    "import seaborn as sns\n",
    "import dataframe_image as dfi\n",
    "from sklearn.preprocessing import LabelEncoder\n",
    "from sklearn.model_selection import train_test_split\n",
    "from sklearn.tree import DecisionTreeClassifier\n",
    "from sklearn.ensemble import  RandomForestClassifier\n",
    "from sklearn.linear_model import LogisticRegression\n",
    "from sklearn.metrics import accuracy_score, confusion_matrix, classification_report, plot_confusion_matrix, plot_roc_curve"
   ]
  },
  {
   "cell_type": "code",
   "execution_count": 2,
   "metadata": {},
   "outputs": [],
   "source": [
    "df = pd.read_csv(\"airline.csv\")"
   ]
  },
  {
   "cell_type": "code",
   "execution_count": 3,
   "metadata": {},
   "outputs": [
    {
     "data": {
      "text/html": [
       "<div>\n",
       "<style scoped>\n",
       "    .dataframe tbody tr th:only-of-type {\n",
       "        vertical-align: middle;\n",
       "    }\n",
       "\n",
       "    .dataframe tbody tr th {\n",
       "        vertical-align: top;\n",
       "    }\n",
       "\n",
       "    .dataframe thead th {\n",
       "        text-align: right;\n",
       "    }\n",
       "</style>\n",
       "<table border=\"1\" class=\"dataframe\">\n",
       "  <thead>\n",
       "    <tr style=\"text-align: right;\">\n",
       "      <th></th>\n",
       "      <th>Unnamed: 0</th>\n",
       "      <th>id</th>\n",
       "      <th>Gender</th>\n",
       "      <th>Customer Type</th>\n",
       "      <th>Age</th>\n",
       "      <th>Type of Travel</th>\n",
       "      <th>Class</th>\n",
       "      <th>Flight Distance</th>\n",
       "      <th>Inflight wifi service</th>\n",
       "      <th>Departure/Arrival time convenient</th>\n",
       "      <th>...</th>\n",
       "      <th>Inflight entertainment</th>\n",
       "      <th>On-board service</th>\n",
       "      <th>Leg room service</th>\n",
       "      <th>Baggage handling</th>\n",
       "      <th>Checkin service</th>\n",
       "      <th>Inflight service</th>\n",
       "      <th>Cleanliness</th>\n",
       "      <th>Departure Delay in Minutes</th>\n",
       "      <th>Arrival Delay in Minutes</th>\n",
       "      <th>satisfaction</th>\n",
       "    </tr>\n",
       "  </thead>\n",
       "  <tbody>\n",
       "    <tr>\n",
       "      <th>0</th>\n",
       "      <td>0</td>\n",
       "      <td>19556</td>\n",
       "      <td>Female</td>\n",
       "      <td>Loyal Customer</td>\n",
       "      <td>52</td>\n",
       "      <td>Business travel</td>\n",
       "      <td>Eco</td>\n",
       "      <td>160</td>\n",
       "      <td>5</td>\n",
       "      <td>4</td>\n",
       "      <td>...</td>\n",
       "      <td>5</td>\n",
       "      <td>5</td>\n",
       "      <td>5</td>\n",
       "      <td>5</td>\n",
       "      <td>2</td>\n",
       "      <td>5</td>\n",
       "      <td>5</td>\n",
       "      <td>50</td>\n",
       "      <td>44.0</td>\n",
       "      <td>satisfied</td>\n",
       "    </tr>\n",
       "    <tr>\n",
       "      <th>1</th>\n",
       "      <td>1</td>\n",
       "      <td>90035</td>\n",
       "      <td>Female</td>\n",
       "      <td>Loyal Customer</td>\n",
       "      <td>36</td>\n",
       "      <td>Business travel</td>\n",
       "      <td>Business</td>\n",
       "      <td>2863</td>\n",
       "      <td>1</td>\n",
       "      <td>1</td>\n",
       "      <td>...</td>\n",
       "      <td>4</td>\n",
       "      <td>4</td>\n",
       "      <td>4</td>\n",
       "      <td>4</td>\n",
       "      <td>3</td>\n",
       "      <td>4</td>\n",
       "      <td>5</td>\n",
       "      <td>0</td>\n",
       "      <td>0.0</td>\n",
       "      <td>satisfied</td>\n",
       "    </tr>\n",
       "    <tr>\n",
       "      <th>2</th>\n",
       "      <td>2</td>\n",
       "      <td>12360</td>\n",
       "      <td>Male</td>\n",
       "      <td>disloyal Customer</td>\n",
       "      <td>20</td>\n",
       "      <td>Business travel</td>\n",
       "      <td>Eco</td>\n",
       "      <td>192</td>\n",
       "      <td>2</td>\n",
       "      <td>0</td>\n",
       "      <td>...</td>\n",
       "      <td>2</td>\n",
       "      <td>4</td>\n",
       "      <td>1</td>\n",
       "      <td>3</td>\n",
       "      <td>2</td>\n",
       "      <td>2</td>\n",
       "      <td>2</td>\n",
       "      <td>0</td>\n",
       "      <td>0.0</td>\n",
       "      <td>neutral or dissatisfied</td>\n",
       "    </tr>\n",
       "    <tr>\n",
       "      <th>3</th>\n",
       "      <td>3</td>\n",
       "      <td>77959</td>\n",
       "      <td>Male</td>\n",
       "      <td>Loyal Customer</td>\n",
       "      <td>44</td>\n",
       "      <td>Business travel</td>\n",
       "      <td>Business</td>\n",
       "      <td>3377</td>\n",
       "      <td>0</td>\n",
       "      <td>0</td>\n",
       "      <td>...</td>\n",
       "      <td>1</td>\n",
       "      <td>1</td>\n",
       "      <td>1</td>\n",
       "      <td>1</td>\n",
       "      <td>3</td>\n",
       "      <td>1</td>\n",
       "      <td>4</td>\n",
       "      <td>0</td>\n",
       "      <td>6.0</td>\n",
       "      <td>satisfied</td>\n",
       "    </tr>\n",
       "    <tr>\n",
       "      <th>4</th>\n",
       "      <td>4</td>\n",
       "      <td>36875</td>\n",
       "      <td>Female</td>\n",
       "      <td>Loyal Customer</td>\n",
       "      <td>49</td>\n",
       "      <td>Business travel</td>\n",
       "      <td>Eco</td>\n",
       "      <td>1182</td>\n",
       "      <td>2</td>\n",
       "      <td>3</td>\n",
       "      <td>...</td>\n",
       "      <td>2</td>\n",
       "      <td>2</td>\n",
       "      <td>2</td>\n",
       "      <td>2</td>\n",
       "      <td>4</td>\n",
       "      <td>2</td>\n",
       "      <td>4</td>\n",
       "      <td>0</td>\n",
       "      <td>20.0</td>\n",
       "      <td>satisfied</td>\n",
       "    </tr>\n",
       "  </tbody>\n",
       "</table>\n",
       "<p>5 rows × 25 columns</p>\n",
       "</div>"
      ],
      "text/plain": [
       "   Unnamed: 0     id  Gender      Customer Type  Age   Type of Travel  \\\n",
       "0           0  19556  Female     Loyal Customer   52  Business travel   \n",
       "1           1  90035  Female     Loyal Customer   36  Business travel   \n",
       "2           2  12360    Male  disloyal Customer   20  Business travel   \n",
       "3           3  77959    Male     Loyal Customer   44  Business travel   \n",
       "4           4  36875  Female     Loyal Customer   49  Business travel   \n",
       "\n",
       "      Class  Flight Distance  Inflight wifi service  \\\n",
       "0       Eco              160                      5   \n",
       "1  Business             2863                      1   \n",
       "2       Eco              192                      2   \n",
       "3  Business             3377                      0   \n",
       "4       Eco             1182                      2   \n",
       "\n",
       "   Departure/Arrival time convenient  ...  Inflight entertainment  \\\n",
       "0                                  4  ...                       5   \n",
       "1                                  1  ...                       4   \n",
       "2                                  0  ...                       2   \n",
       "3                                  0  ...                       1   \n",
       "4                                  3  ...                       2   \n",
       "\n",
       "   On-board service  Leg room service  Baggage handling  Checkin service  \\\n",
       "0                 5                 5                 5                2   \n",
       "1                 4                 4                 4                3   \n",
       "2                 4                 1                 3                2   \n",
       "3                 1                 1                 1                3   \n",
       "4                 2                 2                 2                4   \n",
       "\n",
       "   Inflight service  Cleanliness  Departure Delay in Minutes  \\\n",
       "0                 5            5                          50   \n",
       "1                 4            5                           0   \n",
       "2                 2            2                           0   \n",
       "3                 1            4                           0   \n",
       "4                 2            4                           0   \n",
       "\n",
       "   Arrival Delay in Minutes             satisfaction  \n",
       "0                      44.0                satisfied  \n",
       "1                       0.0                satisfied  \n",
       "2                       0.0  neutral or dissatisfied  \n",
       "3                       6.0                satisfied  \n",
       "4                      20.0                satisfied  \n",
       "\n",
       "[5 rows x 25 columns]"
      ]
     },
     "execution_count": 3,
     "metadata": {},
     "output_type": "execute_result"
    }
   ],
   "source": [
    "df.head()"
   ]
  },
  {
   "cell_type": "code",
   "execution_count": 7,
   "metadata": {},
   "outputs": [],
   "source": [
    "descr = df.describe()\n",
    "df_styled = descr\n",
    "dfi.export(df_styled,\"Original_describe.png\")"
   ]
  },
  {
   "cell_type": "markdown",
   "metadata": {},
   "source": [
    "## Data Cleanup and Proprocessing "
   ]
  },
  {
   "cell_type": "code",
   "execution_count": 8,
   "metadata": {},
   "outputs": [
    {
     "name": "stdout",
     "output_type": "stream",
     "text": [
      "<class 'pandas.core.frame.DataFrame'>\n",
      "RangeIndex: 25976 entries, 0 to 25975\n",
      "Data columns (total 25 columns):\n",
      " #   Column                             Non-Null Count  Dtype  \n",
      "---  ------                             --------------  -----  \n",
      " 0   Unnamed: 0                         25976 non-null  int64  \n",
      " 1   id                                 25976 non-null  int64  \n",
      " 2   Gender                             25976 non-null  object \n",
      " 3   Customer Type                      25976 non-null  object \n",
      " 4   Age                                25976 non-null  int64  \n",
      " 5   Type of Travel                     25976 non-null  object \n",
      " 6   Class                              25976 non-null  object \n",
      " 7   Flight Distance                    25976 non-null  int64  \n",
      " 8   Inflight wifi service              25976 non-null  int64  \n",
      " 9   Departure/Arrival time convenient  25976 non-null  int64  \n",
      " 10  Ease of Online booking             25976 non-null  int64  \n",
      " 11  Gate location                      25976 non-null  int64  \n",
      " 12  Food and drink                     25976 non-null  int64  \n",
      " 13  Online boarding                    25976 non-null  int64  \n",
      " 14  Seat comfort                       25976 non-null  int64  \n",
      " 15  Inflight entertainment             25976 non-null  int64  \n",
      " 16  On-board service                   25976 non-null  int64  \n",
      " 17  Leg room service                   25976 non-null  int64  \n",
      " 18  Baggage handling                   25976 non-null  int64  \n",
      " 19  Checkin service                    25976 non-null  int64  \n",
      " 20  Inflight service                   25976 non-null  int64  \n",
      " 21  Cleanliness                        25976 non-null  int64  \n",
      " 22  Departure Delay in Minutes         25976 non-null  int64  \n",
      " 23  Arrival Delay in Minutes           25893 non-null  float64\n",
      " 24  satisfaction                       25976 non-null  object \n",
      "dtypes: float64(1), int64(19), object(5)\n",
      "memory usage: 5.0+ MB\n"
     ]
    }
   ],
   "source": [
    "df.info()"
   ]
  },
  {
   "cell_type": "markdown",
   "metadata": {},
   "source": [
    "The dataset consists of 25 columns and 25976 rows."
   ]
  },
  {
   "cell_type": "markdown",
   "metadata": {},
   "source": [
    "Numerical variabels are Age, Flight Distance, Inflight wifi service, Ease of Online booking, Gate location, Seat comfort, Cleanliness and categorical variables are Gender, Customer Type, Type of Travel, satifaction."
   ]
  },
  {
   "cell_type": "code",
   "execution_count": 10,
   "metadata": {},
   "outputs": [
    {
     "data": {
      "text/html": [
       "<div>\n",
       "<style scoped>\n",
       "    .dataframe tbody tr th:only-of-type {\n",
       "        vertical-align: middle;\n",
       "    }\n",
       "\n",
       "    .dataframe tbody tr th {\n",
       "        vertical-align: top;\n",
       "    }\n",
       "\n",
       "    .dataframe thead th {\n",
       "        text-align: right;\n",
       "    }\n",
       "</style>\n",
       "<table border=\"1\" class=\"dataframe\">\n",
       "  <thead>\n",
       "    <tr style=\"text-align: right;\">\n",
       "      <th></th>\n",
       "      <th>id</th>\n",
       "      <th>Gender</th>\n",
       "      <th>Customer Type</th>\n",
       "      <th>Age</th>\n",
       "      <th>Type of Travel</th>\n",
       "      <th>Class</th>\n",
       "      <th>Flight Distance</th>\n",
       "      <th>Inflight wifi service</th>\n",
       "      <th>Departure/Arrival time convenient</th>\n",
       "      <th>Ease of Online booking</th>\n",
       "      <th>...</th>\n",
       "      <th>Inflight entertainment</th>\n",
       "      <th>On-board service</th>\n",
       "      <th>Leg room service</th>\n",
       "      <th>Baggage handling</th>\n",
       "      <th>Checkin service</th>\n",
       "      <th>Inflight service</th>\n",
       "      <th>Cleanliness</th>\n",
       "      <th>Departure Delay in Minutes</th>\n",
       "      <th>Arrival Delay in Minutes</th>\n",
       "      <th>satisfaction</th>\n",
       "    </tr>\n",
       "  </thead>\n",
       "  <tbody>\n",
       "    <tr>\n",
       "      <th>0</th>\n",
       "      <td>19556</td>\n",
       "      <td>Female</td>\n",
       "      <td>Loyal Customer</td>\n",
       "      <td>52</td>\n",
       "      <td>Business travel</td>\n",
       "      <td>Eco</td>\n",
       "      <td>160</td>\n",
       "      <td>5</td>\n",
       "      <td>4</td>\n",
       "      <td>3</td>\n",
       "      <td>...</td>\n",
       "      <td>5</td>\n",
       "      <td>5</td>\n",
       "      <td>5</td>\n",
       "      <td>5</td>\n",
       "      <td>2</td>\n",
       "      <td>5</td>\n",
       "      <td>5</td>\n",
       "      <td>50</td>\n",
       "      <td>44.0</td>\n",
       "      <td>satisfied</td>\n",
       "    </tr>\n",
       "    <tr>\n",
       "      <th>1</th>\n",
       "      <td>90035</td>\n",
       "      <td>Female</td>\n",
       "      <td>Loyal Customer</td>\n",
       "      <td>36</td>\n",
       "      <td>Business travel</td>\n",
       "      <td>Business</td>\n",
       "      <td>2863</td>\n",
       "      <td>1</td>\n",
       "      <td>1</td>\n",
       "      <td>3</td>\n",
       "      <td>...</td>\n",
       "      <td>4</td>\n",
       "      <td>4</td>\n",
       "      <td>4</td>\n",
       "      <td>4</td>\n",
       "      <td>3</td>\n",
       "      <td>4</td>\n",
       "      <td>5</td>\n",
       "      <td>0</td>\n",
       "      <td>0.0</td>\n",
       "      <td>satisfied</td>\n",
       "    </tr>\n",
       "    <tr>\n",
       "      <th>2</th>\n",
       "      <td>12360</td>\n",
       "      <td>Male</td>\n",
       "      <td>disloyal Customer</td>\n",
       "      <td>20</td>\n",
       "      <td>Business travel</td>\n",
       "      <td>Eco</td>\n",
       "      <td>192</td>\n",
       "      <td>2</td>\n",
       "      <td>0</td>\n",
       "      <td>2</td>\n",
       "      <td>...</td>\n",
       "      <td>2</td>\n",
       "      <td>4</td>\n",
       "      <td>1</td>\n",
       "      <td>3</td>\n",
       "      <td>2</td>\n",
       "      <td>2</td>\n",
       "      <td>2</td>\n",
       "      <td>0</td>\n",
       "      <td>0.0</td>\n",
       "      <td>neutral or dissatisfied</td>\n",
       "    </tr>\n",
       "    <tr>\n",
       "      <th>3</th>\n",
       "      <td>77959</td>\n",
       "      <td>Male</td>\n",
       "      <td>Loyal Customer</td>\n",
       "      <td>44</td>\n",
       "      <td>Business travel</td>\n",
       "      <td>Business</td>\n",
       "      <td>3377</td>\n",
       "      <td>0</td>\n",
       "      <td>0</td>\n",
       "      <td>0</td>\n",
       "      <td>...</td>\n",
       "      <td>1</td>\n",
       "      <td>1</td>\n",
       "      <td>1</td>\n",
       "      <td>1</td>\n",
       "      <td>3</td>\n",
       "      <td>1</td>\n",
       "      <td>4</td>\n",
       "      <td>0</td>\n",
       "      <td>6.0</td>\n",
       "      <td>satisfied</td>\n",
       "    </tr>\n",
       "    <tr>\n",
       "      <th>4</th>\n",
       "      <td>36875</td>\n",
       "      <td>Female</td>\n",
       "      <td>Loyal Customer</td>\n",
       "      <td>49</td>\n",
       "      <td>Business travel</td>\n",
       "      <td>Eco</td>\n",
       "      <td>1182</td>\n",
       "      <td>2</td>\n",
       "      <td>3</td>\n",
       "      <td>4</td>\n",
       "      <td>...</td>\n",
       "      <td>2</td>\n",
       "      <td>2</td>\n",
       "      <td>2</td>\n",
       "      <td>2</td>\n",
       "      <td>4</td>\n",
       "      <td>2</td>\n",
       "      <td>4</td>\n",
       "      <td>0</td>\n",
       "      <td>20.0</td>\n",
       "      <td>satisfied</td>\n",
       "    </tr>\n",
       "  </tbody>\n",
       "</table>\n",
       "<p>5 rows × 24 columns</p>\n",
       "</div>"
      ],
      "text/plain": [
       "      id  Gender      Customer Type  Age   Type of Travel     Class  \\\n",
       "0  19556  Female     Loyal Customer   52  Business travel       Eco   \n",
       "1  90035  Female     Loyal Customer   36  Business travel  Business   \n",
       "2  12360    Male  disloyal Customer   20  Business travel       Eco   \n",
       "3  77959    Male     Loyal Customer   44  Business travel  Business   \n",
       "4  36875  Female     Loyal Customer   49  Business travel       Eco   \n",
       "\n",
       "   Flight Distance  Inflight wifi service  Departure/Arrival time convenient  \\\n",
       "0              160                      5                                  4   \n",
       "1             2863                      1                                  1   \n",
       "2              192                      2                                  0   \n",
       "3             3377                      0                                  0   \n",
       "4             1182                      2                                  3   \n",
       "\n",
       "   Ease of Online booking  ...  Inflight entertainment  On-board service  \\\n",
       "0                       3  ...                       5                 5   \n",
       "1                       3  ...                       4                 4   \n",
       "2                       2  ...                       2                 4   \n",
       "3                       0  ...                       1                 1   \n",
       "4                       4  ...                       2                 2   \n",
       "\n",
       "   Leg room service  Baggage handling  Checkin service  Inflight service  \\\n",
       "0                 5                 5                2                 5   \n",
       "1                 4                 4                3                 4   \n",
       "2                 1                 3                2                 2   \n",
       "3                 1                 1                3                 1   \n",
       "4                 2                 2                4                 2   \n",
       "\n",
       "   Cleanliness  Departure Delay in Minutes  Arrival Delay in Minutes  \\\n",
       "0            5                          50                      44.0   \n",
       "1            5                           0                       0.0   \n",
       "2            2                           0                       0.0   \n",
       "3            4                           0                       6.0   \n",
       "4            4                           0                      20.0   \n",
       "\n",
       "              satisfaction  \n",
       "0                satisfied  \n",
       "1                satisfied  \n",
       "2  neutral or dissatisfied  \n",
       "3                satisfied  \n",
       "4                satisfied  \n",
       "\n",
       "[5 rows x 24 columns]"
      ]
     },
     "execution_count": 10,
     "metadata": {},
     "output_type": "execute_result"
    }
   ],
   "source": [
    "# Remove unwanted columns\n",
    "df = df.drop('Unnamed: 0', axis=1)\n",
    "df.head()"
   ]
  },
  {
   "cell_type": "code",
   "execution_count": 11,
   "metadata": {},
   "outputs": [
    {
     "data": {
      "text/plain": [
       "id                                     int64\n",
       "Gender                                object\n",
       "Customer Type                         object\n",
       "Age                                    int64\n",
       "Type of Travel                        object\n",
       "Class                                 object\n",
       "Flight Distance                        int64\n",
       "Inflight wifi service                  int64\n",
       "Departure/Arrival time convenient      int64\n",
       "Ease of Online booking                 int64\n",
       "Gate location                          int64\n",
       "Food and drink                         int64\n",
       "Online boarding                        int64\n",
       "Seat comfort                           int64\n",
       "Inflight entertainment                 int64\n",
       "On-board service                       int64\n",
       "Leg room service                       int64\n",
       "Baggage handling                       int64\n",
       "Checkin service                        int64\n",
       "Inflight service                       int64\n",
       "Cleanliness                            int64\n",
       "Departure Delay in Minutes             int64\n",
       "Arrival Delay in Minutes             float64\n",
       "satisfaction                          object\n",
       "dtype: object"
      ]
     },
     "execution_count": 11,
     "metadata": {},
     "output_type": "execute_result"
    }
   ],
   "source": [
    "df.dtypes"
   ]
  },
  {
   "cell_type": "markdown",
   "metadata": {},
   "source": [
    "Column names are lengthy and we make it small and rename the columns."
   ]
  },
  {
   "cell_type": "code",
   "execution_count": 12,
   "metadata": {},
   "outputs": [
    {
     "data": {
      "text/html": [
       "<div>\n",
       "<style scoped>\n",
       "    .dataframe tbody tr th:only-of-type {\n",
       "        vertical-align: middle;\n",
       "    }\n",
       "\n",
       "    .dataframe tbody tr th {\n",
       "        vertical-align: top;\n",
       "    }\n",
       "\n",
       "    .dataframe thead th {\n",
       "        text-align: right;\n",
       "    }\n",
       "</style>\n",
       "<table border=\"1\" class=\"dataframe\">\n",
       "  <thead>\n",
       "    <tr style=\"text-align: right;\">\n",
       "      <th></th>\n",
       "      <th>id</th>\n",
       "      <th>Gender</th>\n",
       "      <th>Customer_Type</th>\n",
       "      <th>Age</th>\n",
       "      <th>Travel_Type</th>\n",
       "      <th>Class</th>\n",
       "      <th>Flight_Distance</th>\n",
       "      <th>Wifi_Service</th>\n",
       "      <th>Departure_Arrival_Time</th>\n",
       "      <th>Online_Booking</th>\n",
       "      <th>...</th>\n",
       "      <th>Inflight_Entertainment</th>\n",
       "      <th>Onboard_Service</th>\n",
       "      <th>LegRoom_Service</th>\n",
       "      <th>Baggage_Handling</th>\n",
       "      <th>Checking_Service</th>\n",
       "      <th>Inflight_Service</th>\n",
       "      <th>Cleanliness</th>\n",
       "      <th>Departure_Delay_Time</th>\n",
       "      <th>Arrival_Delay_Time</th>\n",
       "      <th>satisfaction</th>\n",
       "    </tr>\n",
       "  </thead>\n",
       "  <tbody>\n",
       "    <tr>\n",
       "      <th>0</th>\n",
       "      <td>19556</td>\n",
       "      <td>Female</td>\n",
       "      <td>Loyal Customer</td>\n",
       "      <td>52</td>\n",
       "      <td>Business travel</td>\n",
       "      <td>Eco</td>\n",
       "      <td>160</td>\n",
       "      <td>5</td>\n",
       "      <td>4</td>\n",
       "      <td>3</td>\n",
       "      <td>...</td>\n",
       "      <td>5</td>\n",
       "      <td>5</td>\n",
       "      <td>5</td>\n",
       "      <td>5</td>\n",
       "      <td>2</td>\n",
       "      <td>5</td>\n",
       "      <td>5</td>\n",
       "      <td>50</td>\n",
       "      <td>44.0</td>\n",
       "      <td>satisfied</td>\n",
       "    </tr>\n",
       "    <tr>\n",
       "      <th>1</th>\n",
       "      <td>90035</td>\n",
       "      <td>Female</td>\n",
       "      <td>Loyal Customer</td>\n",
       "      <td>36</td>\n",
       "      <td>Business travel</td>\n",
       "      <td>Business</td>\n",
       "      <td>2863</td>\n",
       "      <td>1</td>\n",
       "      <td>1</td>\n",
       "      <td>3</td>\n",
       "      <td>...</td>\n",
       "      <td>4</td>\n",
       "      <td>4</td>\n",
       "      <td>4</td>\n",
       "      <td>4</td>\n",
       "      <td>3</td>\n",
       "      <td>4</td>\n",
       "      <td>5</td>\n",
       "      <td>0</td>\n",
       "      <td>0.0</td>\n",
       "      <td>satisfied</td>\n",
       "    </tr>\n",
       "    <tr>\n",
       "      <th>2</th>\n",
       "      <td>12360</td>\n",
       "      <td>Male</td>\n",
       "      <td>disloyal Customer</td>\n",
       "      <td>20</td>\n",
       "      <td>Business travel</td>\n",
       "      <td>Eco</td>\n",
       "      <td>192</td>\n",
       "      <td>2</td>\n",
       "      <td>0</td>\n",
       "      <td>2</td>\n",
       "      <td>...</td>\n",
       "      <td>2</td>\n",
       "      <td>4</td>\n",
       "      <td>1</td>\n",
       "      <td>3</td>\n",
       "      <td>2</td>\n",
       "      <td>2</td>\n",
       "      <td>2</td>\n",
       "      <td>0</td>\n",
       "      <td>0.0</td>\n",
       "      <td>neutral or dissatisfied</td>\n",
       "    </tr>\n",
       "    <tr>\n",
       "      <th>3</th>\n",
       "      <td>77959</td>\n",
       "      <td>Male</td>\n",
       "      <td>Loyal Customer</td>\n",
       "      <td>44</td>\n",
       "      <td>Business travel</td>\n",
       "      <td>Business</td>\n",
       "      <td>3377</td>\n",
       "      <td>0</td>\n",
       "      <td>0</td>\n",
       "      <td>0</td>\n",
       "      <td>...</td>\n",
       "      <td>1</td>\n",
       "      <td>1</td>\n",
       "      <td>1</td>\n",
       "      <td>1</td>\n",
       "      <td>3</td>\n",
       "      <td>1</td>\n",
       "      <td>4</td>\n",
       "      <td>0</td>\n",
       "      <td>6.0</td>\n",
       "      <td>satisfied</td>\n",
       "    </tr>\n",
       "    <tr>\n",
       "      <th>4</th>\n",
       "      <td>36875</td>\n",
       "      <td>Female</td>\n",
       "      <td>Loyal Customer</td>\n",
       "      <td>49</td>\n",
       "      <td>Business travel</td>\n",
       "      <td>Eco</td>\n",
       "      <td>1182</td>\n",
       "      <td>2</td>\n",
       "      <td>3</td>\n",
       "      <td>4</td>\n",
       "      <td>...</td>\n",
       "      <td>2</td>\n",
       "      <td>2</td>\n",
       "      <td>2</td>\n",
       "      <td>2</td>\n",
       "      <td>4</td>\n",
       "      <td>2</td>\n",
       "      <td>4</td>\n",
       "      <td>0</td>\n",
       "      <td>20.0</td>\n",
       "      <td>satisfied</td>\n",
       "    </tr>\n",
       "  </tbody>\n",
       "</table>\n",
       "<p>5 rows × 24 columns</p>\n",
       "</div>"
      ],
      "text/plain": [
       "      id  Gender      Customer_Type  Age      Travel_Type     Class  \\\n",
       "0  19556  Female     Loyal Customer   52  Business travel       Eco   \n",
       "1  90035  Female     Loyal Customer   36  Business travel  Business   \n",
       "2  12360    Male  disloyal Customer   20  Business travel       Eco   \n",
       "3  77959    Male     Loyal Customer   44  Business travel  Business   \n",
       "4  36875  Female     Loyal Customer   49  Business travel       Eco   \n",
       "\n",
       "   Flight_Distance  Wifi_Service  Departure_Arrival_Time  Online_Booking  ...  \\\n",
       "0              160             5                       4               3  ...   \n",
       "1             2863             1                       1               3  ...   \n",
       "2              192             2                       0               2  ...   \n",
       "3             3377             0                       0               0  ...   \n",
       "4             1182             2                       3               4  ...   \n",
       "\n",
       "   Inflight_Entertainment  Onboard_Service  LegRoom_Service  Baggage_Handling  \\\n",
       "0                       5                5                5                 5   \n",
       "1                       4                4                4                 4   \n",
       "2                       2                4                1                 3   \n",
       "3                       1                1                1                 1   \n",
       "4                       2                2                2                 2   \n",
       "\n",
       "   Checking_Service  Inflight_Service  Cleanliness  Departure_Delay_Time  \\\n",
       "0                 2                 5            5                    50   \n",
       "1                 3                 4            5                     0   \n",
       "2                 2                 2            2                     0   \n",
       "3                 3                 1            4                     0   \n",
       "4                 4                 2            4                     0   \n",
       "\n",
       "   Arrival_Delay_Time             satisfaction  \n",
       "0                44.0                satisfied  \n",
       "1                 0.0                satisfied  \n",
       "2                 0.0  neutral or dissatisfied  \n",
       "3                 6.0                satisfied  \n",
       "4                20.0                satisfied  \n",
       "\n",
       "[5 rows x 24 columns]"
      ]
     },
     "execution_count": 12,
     "metadata": {},
     "output_type": "execute_result"
    }
   ],
   "source": [
    "df = df.rename(columns={'Customer Type':'Customer_Type','Type of Travel':'Travel_Type','Flight Distance':'Flight_Distance',\n",
    "                   'Inflight wifi service':'Wifi_Service','Departure/Arrival time convenient':'Departure_Arrival_Time',\n",
    "                   'Ease of Online booking':'Online_Booking','Gate location':'Gate_Location','Food and drink':'Food_Drink',\n",
    "                   'Online boarding':'Online_Boarding','Seat comfort':'Seat_Comfort','Inflight entertainment':'Inflight_Entertainment',\n",
    "                   'On-board service':'Onboard_Service','Leg room service':'LegRoom_Service','Baggage handling':'Baggage_Handling',\n",
    "                   'Checkin service':'Checking_Service','Inflight service':'Inflight_Service','Departure Delay in Minutes':'Departure_Delay_Time',\n",
    "                   'Arrival Delay in Minutes':'Arrival_Delay_Time'})\n",
    "df.head()"
   ]
  },
  {
   "cell_type": "markdown",
   "metadata": {},
   "source": [
    "## Missing values"
   ]
  },
  {
   "cell_type": "markdown",
   "metadata": {},
   "source": [
    "Let us check missing values are present in the dataset."
   ]
  },
  {
   "cell_type": "code",
   "execution_count": 13,
   "metadata": {},
   "outputs": [
    {
     "data": {
      "text/plain": [
       "id                         0\n",
       "Gender                     0\n",
       "Customer_Type              0\n",
       "Age                        0\n",
       "Travel_Type                0\n",
       "Class                      0\n",
       "Flight_Distance            0\n",
       "Wifi_Service               0\n",
       "Departure_Arrival_Time     0\n",
       "Online_Booking             0\n",
       "Gate_Location              0\n",
       "Food_Drink                 0\n",
       "Online_Boarding            0\n",
       "Seat_Comfort               0\n",
       "Inflight_Entertainment     0\n",
       "Onboard_Service            0\n",
       "LegRoom_Service            0\n",
       "Baggage_Handling           0\n",
       "Checking_Service           0\n",
       "Inflight_Service           0\n",
       "Cleanliness                0\n",
       "Departure_Delay_Time       0\n",
       "Arrival_Delay_Time        83\n",
       "satisfaction               0\n",
       "dtype: int64"
      ]
     },
     "execution_count": 13,
     "metadata": {},
     "output_type": "execute_result"
    }
   ],
   "source": [
    "# Checking missing values\n",
    "df.isnull().sum()"
   ]
  },
  {
   "cell_type": "markdown",
   "metadata": {},
   "source": [
    "The missing values are present in the Arrival Delay in Minutes variable."
   ]
  },
  {
   "cell_type": "code",
   "execution_count": 14,
   "metadata": {},
   "outputs": [
    {
     "data": {
      "text/plain": [
       "id                        0.000000\n",
       "Gender                    0.000000\n",
       "Customer_Type             0.000000\n",
       "Age                       0.000000\n",
       "Travel_Type               0.000000\n",
       "Class                     0.000000\n",
       "Flight_Distance           0.000000\n",
       "Wifi_Service              0.000000\n",
       "Departure_Arrival_Time    0.000000\n",
       "Online_Booking            0.000000\n",
       "Gate_Location             0.000000\n",
       "Food_Drink                0.000000\n",
       "Online_Boarding           0.000000\n",
       "Seat_Comfort              0.000000\n",
       "Inflight_Entertainment    0.000000\n",
       "Onboard_Service           0.000000\n",
       "LegRoom_Service           0.000000\n",
       "Baggage_Handling          0.000000\n",
       "Checking_Service          0.000000\n",
       "Inflight_Service          0.000000\n",
       "Cleanliness               0.000000\n",
       "Departure_Delay_Time      0.000000\n",
       "Arrival_Delay_Time        0.319526\n",
       "satisfaction              0.000000\n",
       "dtype: float64"
      ]
     },
     "execution_count": 14,
     "metadata": {},
     "output_type": "execute_result"
    }
   ],
   "source": [
    "# percentage of missing values\n",
    "df.isnull().sum()/len(df) * 100"
   ]
  },
  {
   "cell_type": "markdown",
   "metadata": {},
   "source": [
    "The percentage of missing values in Arrival Delay in Minutes is 0.31%.\n",
    "\n",
    "Percentage of missing values is very less, either we can ignore or we can impute this values by using mean, median and KNN imputation methods."
   ]
  },
  {
   "cell_type": "code",
   "execution_count": 15,
   "metadata": {},
   "outputs": [
    {
     "data": {
      "text/plain": [
       "0"
      ]
     },
     "execution_count": 15,
     "metadata": {},
     "output_type": "execute_result"
    }
   ],
   "source": [
    "# Filling missing values with zero\n",
    "df.Arrival_Delay_Time = df.Arrival_Delay_Time.fillna(0)\n",
    "df.Arrival_Delay_Time.isnull().sum()"
   ]
  },
  {
   "cell_type": "markdown",
   "metadata": {},
   "source": [
    "## Duplicates"
   ]
  },
  {
   "cell_type": "code",
   "execution_count": 16,
   "metadata": {},
   "outputs": [
    {
     "data": {
      "text/plain": [
       "0"
      ]
     },
     "execution_count": 16,
     "metadata": {},
     "output_type": "execute_result"
    }
   ],
   "source": [
    "df.duplicated().sum()"
   ]
  },
  {
   "cell_type": "markdown",
   "metadata": {},
   "source": [
    "No duplicated are found in dataset."
   ]
  },
  {
   "cell_type": "markdown",
   "metadata": {},
   "source": [
    "## Outliers/Anomalies"
   ]
  },
  {
   "cell_type": "code",
   "execution_count": 17,
   "metadata": {},
   "outputs": [
    {
     "data": {
      "image/png": "[encoded data removed]",
      "text/plain": [
       "<Figure size 1080x576 with 1 Axes>"
      ]
     },
     "metadata": {
      "needs_background": "light"
     },
     "output_type": "display_data"
    }
   ],
   "source": [
    "# outliers in Age\n",
    "fig,ax=plt.subplots(figsize=(15,8))\n",
    "#Boxplot for Age\n",
    "sns.boxplot(data=df[['Age']])\n",
    "ax.set_title('Age Outliers')\n",
    "plt.show()"
   ]
  },
  {
   "cell_type": "markdown",
   "metadata": {},
   "source": [
    "No outliers are present in this Age variable."
   ]
  },
  {
   "cell_type": "code",
   "execution_count": 19,
   "metadata": {},
   "outputs": [
    {
     "data": {
      "image/png": "[encoded data removed]",
      "text/plain": [
       "<Figure size 1080x576 with 1 Axes>"
      ]
     },
     "metadata": {
      "needs_background": "light"
     },
     "output_type": "display_data"
    }
   ],
   "source": [
    "fig,ax=plt.subplots(figsize=(15,8))\n",
    "#Boxplot for Flight Distance\n",
    "sns.boxplot(data=df[['Flight_Distance']])\n",
    "ax.set_title('Flight Distance outliers')\n",
    "plt.show()"
   ]
  },
  {
   "cell_type": "markdown",
   "metadata": {},
   "source": [
    "Outliers are present in the Flight distance variable. But, for this kind of dataset we can ignore outlier analysis and not so important."
   ]
  },
  {
   "cell_type": "markdown",
   "metadata": {},
   "source": [
    "Let us see summary statistics like mean, median, mode, count etc."
   ]
  },
  {
   "cell_type": "code",
   "execution_count": 20,
   "metadata": {},
   "outputs": [
    {
     "data": {
      "text/html": [
       "<div>\n",
       "<style scoped>\n",
       "    .dataframe tbody tr th:only-of-type {\n",
       "        vertical-align: middle;\n",
       "    }\n",
       "\n",
       "    .dataframe tbody tr th {\n",
       "        vertical-align: top;\n",
       "    }\n",
       "\n",
       "    .dataframe thead th {\n",
       "        text-align: right;\n",
       "    }\n",
       "</style>\n",
       "<table border=\"1\" class=\"dataframe\">\n",
       "  <thead>\n",
       "    <tr style=\"text-align: right;\">\n",
       "      <th></th>\n",
       "      <th>id</th>\n",
       "      <th>Age</th>\n",
       "      <th>Flight_Distance</th>\n",
       "      <th>Wifi_Service</th>\n",
       "      <th>Departure_Arrival_Time</th>\n",
       "      <th>Online_Booking</th>\n",
       "      <th>Gate_Location</th>\n",
       "      <th>Food_Drink</th>\n",
       "      <th>Online_Boarding</th>\n",
       "      <th>Seat_Comfort</th>\n",
       "      <th>Inflight_Entertainment</th>\n",
       "      <th>Onboard_Service</th>\n",
       "      <th>LegRoom_Service</th>\n",
       "      <th>Baggage_Handling</th>\n",
       "      <th>Checking_Service</th>\n",
       "      <th>Inflight_Service</th>\n",
       "      <th>Cleanliness</th>\n",
       "      <th>Departure_Delay_Time</th>\n",
       "      <th>Arrival_Delay_Time</th>\n",
       "    </tr>\n",
       "  </thead>\n",
       "  <tbody>\n",
       "    <tr>\n",
       "      <th>count</th>\n",
       "      <td>25976.000000</td>\n",
       "      <td>25976.000000</td>\n",
       "      <td>25976.000000</td>\n",
       "      <td>25976.000000</td>\n",
       "      <td>25976.000000</td>\n",
       "      <td>25976.000000</td>\n",
       "      <td>25976.000000</td>\n",
       "      <td>25976.000000</td>\n",
       "      <td>25976.000000</td>\n",
       "      <td>25976.000000</td>\n",
       "      <td>25976.000000</td>\n",
       "      <td>25976.000000</td>\n",
       "      <td>25976.000000</td>\n",
       "      <td>25976.000000</td>\n",
       "      <td>25976.000000</td>\n",
       "      <td>25976.000000</td>\n",
       "      <td>25976.000000</td>\n",
       "      <td>25976.00000</td>\n",
       "      <td>25976.000000</td>\n",
       "    </tr>\n",
       "    <tr>\n",
       "      <th>mean</th>\n",
       "      <td>65005.657992</td>\n",
       "      <td>39.620958</td>\n",
       "      <td>1193.788459</td>\n",
       "      <td>2.724746</td>\n",
       "      <td>3.046812</td>\n",
       "      <td>2.756775</td>\n",
       "      <td>2.977094</td>\n",
       "      <td>3.215353</td>\n",
       "      <td>3.261665</td>\n",
       "      <td>3.449222</td>\n",
       "      <td>3.357753</td>\n",
       "      <td>3.385664</td>\n",
       "      <td>3.350169</td>\n",
       "      <td>3.633238</td>\n",
       "      <td>3.314175</td>\n",
       "      <td>3.649253</td>\n",
       "      <td>3.286226</td>\n",
       "      <td>14.30609</td>\n",
       "      <td>14.693756</td>\n",
       "    </tr>\n",
       "    <tr>\n",
       "      <th>std</th>\n",
       "      <td>37611.526647</td>\n",
       "      <td>15.135685</td>\n",
       "      <td>998.683999</td>\n",
       "      <td>1.335384</td>\n",
       "      <td>1.533371</td>\n",
       "      <td>1.412951</td>\n",
       "      <td>1.282133</td>\n",
       "      <td>1.331506</td>\n",
       "      <td>1.355536</td>\n",
       "      <td>1.320090</td>\n",
       "      <td>1.338299</td>\n",
       "      <td>1.282088</td>\n",
       "      <td>1.318862</td>\n",
       "      <td>1.176525</td>\n",
       "      <td>1.269332</td>\n",
       "      <td>1.180681</td>\n",
       "      <td>1.319330</td>\n",
       "      <td>37.42316</td>\n",
       "      <td>37.466787</td>\n",
       "    </tr>\n",
       "    <tr>\n",
       "      <th>min</th>\n",
       "      <td>17.000000</td>\n",
       "      <td>7.000000</td>\n",
       "      <td>31.000000</td>\n",
       "      <td>0.000000</td>\n",
       "      <td>0.000000</td>\n",
       "      <td>0.000000</td>\n",
       "      <td>1.000000</td>\n",
       "      <td>0.000000</td>\n",
       "      <td>0.000000</td>\n",
       "      <td>1.000000</td>\n",
       "      <td>0.000000</td>\n",
       "      <td>0.000000</td>\n",
       "      <td>0.000000</td>\n",
       "      <td>1.000000</td>\n",
       "      <td>1.000000</td>\n",
       "      <td>0.000000</td>\n",
       "      <td>0.000000</td>\n",
       "      <td>0.00000</td>\n",
       "      <td>0.000000</td>\n",
       "    </tr>\n",
       "    <tr>\n",
       "      <th>25%</th>\n",
       "      <td>32170.500000</td>\n",
       "      <td>27.000000</td>\n",
       "      <td>414.000000</td>\n",
       "      <td>2.000000</td>\n",
       "      <td>2.000000</td>\n",
       "      <td>2.000000</td>\n",
       "      <td>2.000000</td>\n",
       "      <td>2.000000</td>\n",
       "      <td>2.000000</td>\n",
       "      <td>2.000000</td>\n",
       "      <td>2.000000</td>\n",
       "      <td>2.000000</td>\n",
       "      <td>2.000000</td>\n",
       "      <td>3.000000</td>\n",
       "      <td>3.000000</td>\n",
       "      <td>3.000000</td>\n",
       "      <td>2.000000</td>\n",
       "      <td>0.00000</td>\n",
       "      <td>0.000000</td>\n",
       "    </tr>\n",
       "    <tr>\n",
       "      <th>50%</th>\n",
       "      <td>65319.500000</td>\n",
       "      <td>40.000000</td>\n",
       "      <td>849.000000</td>\n",
       "      <td>3.000000</td>\n",
       "      <td>3.000000</td>\n",
       "      <td>3.000000</td>\n",
       "      <td>3.000000</td>\n",
       "      <td>3.000000</td>\n",
       "      <td>4.000000</td>\n",
       "      <td>4.000000</td>\n",
       "      <td>4.000000</td>\n",
       "      <td>4.000000</td>\n",
       "      <td>4.000000</td>\n",
       "      <td>4.000000</td>\n",
       "      <td>3.000000</td>\n",
       "      <td>4.000000</td>\n",
       "      <td>3.000000</td>\n",
       "      <td>0.00000</td>\n",
       "      <td>0.000000</td>\n",
       "    </tr>\n",
       "    <tr>\n",
       "      <th>75%</th>\n",
       "      <td>97584.250000</td>\n",
       "      <td>51.000000</td>\n",
       "      <td>1744.000000</td>\n",
       "      <td>4.000000</td>\n",
       "      <td>4.000000</td>\n",
       "      <td>4.000000</td>\n",
       "      <td>4.000000</td>\n",
       "      <td>4.000000</td>\n",
       "      <td>4.000000</td>\n",
       "      <td>5.000000</td>\n",
       "      <td>4.000000</td>\n",
       "      <td>4.000000</td>\n",
       "      <td>4.000000</td>\n",
       "      <td>5.000000</td>\n",
       "      <td>4.000000</td>\n",
       "      <td>5.000000</td>\n",
       "      <td>4.000000</td>\n",
       "      <td>12.00000</td>\n",
       "      <td>13.000000</td>\n",
       "    </tr>\n",
       "    <tr>\n",
       "      <th>max</th>\n",
       "      <td>129877.000000</td>\n",
       "      <td>85.000000</td>\n",
       "      <td>4983.000000</td>\n",
       "      <td>5.000000</td>\n",
       "      <td>5.000000</td>\n",
       "      <td>5.000000</td>\n",
       "      <td>5.000000</td>\n",
       "      <td>5.000000</td>\n",
       "      <td>5.000000</td>\n",
       "      <td>5.000000</td>\n",
       "      <td>5.000000</td>\n",
       "      <td>5.000000</td>\n",
       "      <td>5.000000</td>\n",
       "      <td>5.000000</td>\n",
       "      <td>5.000000</td>\n",
       "      <td>5.000000</td>\n",
       "      <td>5.000000</td>\n",
       "      <td>1128.00000</td>\n",
       "      <td>1115.000000</td>\n",
       "    </tr>\n",
       "  </tbody>\n",
       "</table>\n",
       "</div>"
      ],
      "text/plain": [
       "                  id           Age  Flight_Distance  Wifi_Service  \\\n",
       "count   25976.000000  25976.000000     25976.000000  25976.000000   \n",
       "mean    65005.657992     39.620958      1193.788459      2.724746   \n",
       "std     37611.526647     15.135685       998.683999      1.335384   \n",
       "min        17.000000      7.000000        31.000000      0.000000   \n",
       "25%     32170.500000     27.000000       414.000000      2.000000   \n",
       "50%     65319.500000     40.000000       849.000000      3.000000   \n",
       "75%     97584.250000     51.000000      1744.000000      4.000000   \n",
       "max    129877.000000     85.000000      4983.000000      5.000000   \n",
       "\n",
       "       Departure_Arrival_Time  Online_Booking  Gate_Location    Food_Drink  \\\n",
       "count            25976.000000    25976.000000   25976.000000  25976.000000   \n",
       "mean                 3.046812        2.756775       2.977094      3.215353   \n",
       "std                  1.533371        1.412951       1.282133      1.331506   \n",
       "min                  0.000000        0.000000       1.000000      0.000000   \n",
       "25%                  2.000000        2.000000       2.000000      2.000000   \n",
       "50%                  3.000000        3.000000       3.000000      3.000000   \n",
       "75%                  4.000000        4.000000       4.000000      4.000000   \n",
       "max                  5.000000        5.000000       5.000000      5.000000   \n",
       "\n",
       "       Online_Boarding  Seat_Comfort  Inflight_Entertainment  Onboard_Service  \\\n",
       "count     25976.000000  25976.000000            25976.000000     25976.000000   \n",
       "mean          3.261665      3.449222                3.357753         3.385664   \n",
       "std           1.355536      1.320090                1.338299         1.282088   \n",
       "min           0.000000      1.000000                0.000000         0.000000   \n",
       "25%           2.000000      2.000000                2.000000         2.000000   \n",
       "50%           4.000000      4.000000                4.000000         4.000000   \n",
       "75%           4.000000      5.000000                4.000000         4.000000   \n",
       "max           5.000000      5.000000                5.000000         5.000000   \n",
       "\n",
       "       LegRoom_Service  Baggage_Handling  Checking_Service  Inflight_Service  \\\n",
       "count     25976.000000      25976.000000      25976.000000      25976.000000   \n",
       "mean          3.350169          3.633238          3.314175          3.649253   \n",
       "std           1.318862          1.176525          1.269332          1.180681   \n",
       "min           0.000000          1.000000          1.000000          0.000000   \n",
       "25%           2.000000          3.000000          3.000000          3.000000   \n",
       "50%           4.000000          4.000000          3.000000          4.000000   \n",
       "75%           4.000000          5.000000          4.000000          5.000000   \n",
       "max           5.000000          5.000000          5.000000          5.000000   \n",
       "\n",
       "        Cleanliness  Departure_Delay_Time  Arrival_Delay_Time  \n",
       "count  25976.000000           25976.00000        25976.000000  \n",
       "mean       3.286226              14.30609           14.693756  \n",
       "std        1.319330              37.42316           37.466787  \n",
       "min        0.000000               0.00000            0.000000  \n",
       "25%        2.000000               0.00000            0.000000  \n",
       "50%        3.000000               0.00000            0.000000  \n",
       "75%        4.000000              12.00000           13.000000  \n",
       "max        5.000000            1128.00000         1115.000000  "
      ]
     },
     "execution_count": 20,
     "metadata": {},
     "output_type": "execute_result"
    }
   ],
   "source": [
    "# Glimpse of the dataset\n",
    "df.describe()"
   ]
  },
  {
   "cell_type": "markdown",
   "metadata": {},
   "source": [
    "## Corrleation Matrix"
   ]
  },
  {
   "cell_type": "markdown",
   "metadata": {},
   "source": [
    "Let us see the correlation between the variables"
   ]
  },
  {
   "cell_type": "code",
   "execution_count": 21,
   "metadata": {},
   "outputs": [
    {
     "data": {
      "text/html": [
       "<div>\n",
       "<style scoped>\n",
       "    .dataframe tbody tr th:only-of-type {\n",
       "        vertical-align: middle;\n",
       "    }\n",
       "\n",
       "    .dataframe tbody tr th {\n",
       "        vertical-align: top;\n",
       "    }\n",
       "\n",
       "    .dataframe thead th {\n",
       "        text-align: right;\n",
       "    }\n",
       "</style>\n",
       "<table border=\"1\" class=\"dataframe\">\n",
       "  <thead>\n",
       "    <tr style=\"text-align: right;\">\n",
       "      <th></th>\n",
       "      <th>id</th>\n",
       "      <th>Age</th>\n",
       "      <th>Flight_Distance</th>\n",
       "      <th>Wifi_Service</th>\n",
       "      <th>Departure_Arrival_Time</th>\n",
       "      <th>Online_Booking</th>\n",
       "      <th>Gate_Location</th>\n",
       "      <th>Food_Drink</th>\n",
       "      <th>Online_Boarding</th>\n",
       "      <th>Seat_Comfort</th>\n",
       "      <th>Inflight_Entertainment</th>\n",
       "      <th>Onboard_Service</th>\n",
       "      <th>LegRoom_Service</th>\n",
       "      <th>Baggage_Handling</th>\n",
       "      <th>Checking_Service</th>\n",
       "      <th>Inflight_Service</th>\n",
       "      <th>Cleanliness</th>\n",
       "      <th>Departure_Delay_Time</th>\n",
       "      <th>Arrival_Delay_Time</th>\n",
       "    </tr>\n",
       "  </thead>\n",
       "  <tbody>\n",
       "    <tr>\n",
       "      <th>id</th>\n",
       "      <td>1.000000</td>\n",
       "      <td>0.010211</td>\n",
       "      <td>0.095335</td>\n",
       "      <td>-0.030303</td>\n",
       "      <td>-0.002502</td>\n",
       "      <td>0.010389</td>\n",
       "      <td>0.001843</td>\n",
       "      <td>-0.006789</td>\n",
       "      <td>0.055767</td>\n",
       "      <td>0.049212</td>\n",
       "      <td>-0.001078</td>\n",
       "      <td>0.056544</td>\n",
       "      <td>0.041921</td>\n",
       "      <td>0.073085</td>\n",
       "      <td>0.079521</td>\n",
       "      <td>0.076587</td>\n",
       "      <td>0.020411</td>\n",
       "      <td>-0.009884</td>\n",
       "      <td>-0.028862</td>\n",
       "    </tr>\n",
       "    <tr>\n",
       "      <th>Age</th>\n",
       "      <td>0.010211</td>\n",
       "      <td>1.000000</td>\n",
       "      <td>0.099409</td>\n",
       "      <td>0.009242</td>\n",
       "      <td>0.032449</td>\n",
       "      <td>0.013565</td>\n",
       "      <td>0.003308</td>\n",
       "      <td>0.023841</td>\n",
       "      <td>0.202058</td>\n",
       "      <td>0.154507</td>\n",
       "      <td>0.068998</td>\n",
       "      <td>0.054977</td>\n",
       "      <td>0.033299</td>\n",
       "      <td>-0.049863</td>\n",
       "      <td>0.025388</td>\n",
       "      <td>-0.059083</td>\n",
       "      <td>0.048418</td>\n",
       "      <td>-0.004334</td>\n",
       "      <td>-0.007359</td>\n",
       "    </tr>\n",
       "    <tr>\n",
       "      <th>Flight_Distance</th>\n",
       "      <td>0.095335</td>\n",
       "      <td>0.099409</td>\n",
       "      <td>1.000000</td>\n",
       "      <td>0.005007</td>\n",
       "      <td>-0.014401</td>\n",
       "      <td>0.062989</td>\n",
       "      <td>0.008410</td>\n",
       "      <td>0.057322</td>\n",
       "      <td>0.214629</td>\n",
       "      <td>0.158957</td>\n",
       "      <td>0.137538</td>\n",
       "      <td>0.117880</td>\n",
       "      <td>0.136995</td>\n",
       "      <td>0.071549</td>\n",
       "      <td>0.075720</td>\n",
       "      <td>0.066355</td>\n",
       "      <td>0.105578</td>\n",
       "      <td>0.003446</td>\n",
       "      <td>0.000117</td>\n",
       "    </tr>\n",
       "    <tr>\n",
       "      <th>Wifi_Service</th>\n",
       "      <td>-0.030303</td>\n",
       "      <td>0.009242</td>\n",
       "      <td>0.005007</td>\n",
       "      <td>1.000000</td>\n",
       "      <td>0.349137</td>\n",
       "      <td>0.710684</td>\n",
       "      <td>0.347790</td>\n",
       "      <td>0.122306</td>\n",
       "      <td>0.459366</td>\n",
       "      <td>0.116991</td>\n",
       "      <td>0.201782</td>\n",
       "      <td>0.113658</td>\n",
       "      <td>0.159699</td>\n",
       "      <td>0.118199</td>\n",
       "      <td>0.046046</td>\n",
       "      <td>0.108419</td>\n",
       "      <td>0.125768</td>\n",
       "      <td>-0.010078</td>\n",
       "      <td>-0.012553</td>\n",
       "    </tr>\n",
       "    <tr>\n",
       "      <th>Departure_Arrival_Time</th>\n",
       "      <td>-0.002502</td>\n",
       "      <td>0.032449</td>\n",
       "      <td>-0.014401</td>\n",
       "      <td>0.349137</td>\n",
       "      <td>1.000000</td>\n",
       "      <td>0.440230</td>\n",
       "      <td>0.458439</td>\n",
       "      <td>-0.016006</td>\n",
       "      <td>0.080937</td>\n",
       "      <td>-0.001926</td>\n",
       "      <td>-0.022326</td>\n",
       "      <td>0.060982</td>\n",
       "      <td>0.003373</td>\n",
       "      <td>0.065684</td>\n",
       "      <td>0.082461</td>\n",
       "      <td>0.067804</td>\n",
       "      <td>-0.007670</td>\n",
       "      <td>-0.000238</td>\n",
       "      <td>-0.001442</td>\n",
       "    </tr>\n",
       "    <tr>\n",
       "      <th>Online_Booking</th>\n",
       "      <td>0.010389</td>\n",
       "      <td>0.013565</td>\n",
       "      <td>0.062989</td>\n",
       "      <td>0.710684</td>\n",
       "      <td>0.440230</td>\n",
       "      <td>1.000000</td>\n",
       "      <td>0.465514</td>\n",
       "      <td>0.025141</td>\n",
       "      <td>0.408003</td>\n",
       "      <td>0.022811</td>\n",
       "      <td>0.044715</td>\n",
       "      <td>0.039988</td>\n",
       "      <td>0.116754</td>\n",
       "      <td>0.040685</td>\n",
       "      <td>-0.000108</td>\n",
       "      <td>0.035769</td>\n",
       "      <td>0.010974</td>\n",
       "      <td>-0.001062</td>\n",
       "      <td>-0.003371</td>\n",
       "    </tr>\n",
       "    <tr>\n",
       "      <th>Gate_Location</th>\n",
       "      <td>0.001843</td>\n",
       "      <td>0.003308</td>\n",
       "      <td>0.008410</td>\n",
       "      <td>0.347790</td>\n",
       "      <td>0.458439</td>\n",
       "      <td>0.465514</td>\n",
       "      <td>1.000000</td>\n",
       "      <td>-0.009694</td>\n",
       "      <td>0.006993</td>\n",
       "      <td>-0.000721</td>\n",
       "      <td>-0.000340</td>\n",
       "      <td>-0.031606</td>\n",
       "      <td>-0.002428</td>\n",
       "      <td>-0.004395</td>\n",
       "      <td>-0.054954</td>\n",
       "      <td>-0.005129</td>\n",
       "      <td>-0.014195</td>\n",
       "      <td>0.008039</td>\n",
       "      <td>0.007559</td>\n",
       "    </tr>\n",
       "    <tr>\n",
       "      <th>Food_Drink</th>\n",
       "      <td>-0.006789</td>\n",
       "      <td>0.023841</td>\n",
       "      <td>0.057322</td>\n",
       "      <td>0.122306</td>\n",
       "      <td>-0.016006</td>\n",
       "      <td>0.025141</td>\n",
       "      <td>-0.009694</td>\n",
       "      <td>1.000000</td>\n",
       "      <td>0.229601</td>\n",
       "      <td>0.580970</td>\n",
       "      <td>0.627265</td>\n",
       "      <td>0.050688</td>\n",
       "      <td>0.035870</td>\n",
       "      <td>0.037617</td>\n",
       "      <td>0.076775</td>\n",
       "      <td>0.039992</td>\n",
       "      <td>0.659253</td>\n",
       "      <td>-0.025957</td>\n",
       "      <td>-0.028392</td>\n",
       "    </tr>\n",
       "    <tr>\n",
       "      <th>Online_Boarding</th>\n",
       "      <td>0.055767</td>\n",
       "      <td>0.202058</td>\n",
       "      <td>0.214629</td>\n",
       "      <td>0.459366</td>\n",
       "      <td>0.080937</td>\n",
       "      <td>0.408003</td>\n",
       "      <td>0.006993</td>\n",
       "      <td>0.229601</td>\n",
       "      <td>1.000000</td>\n",
       "      <td>0.415414</td>\n",
       "      <td>0.279391</td>\n",
       "      <td>0.149430</td>\n",
       "      <td>0.120354</td>\n",
       "      <td>0.084583</td>\n",
       "      <td>0.203309</td>\n",
       "      <td>0.071972</td>\n",
       "      <td>0.320912</td>\n",
       "      <td>-0.021037</td>\n",
       "      <td>-0.025841</td>\n",
       "    </tr>\n",
       "    <tr>\n",
       "      <th>Seat_Comfort</th>\n",
       "      <td>0.049212</td>\n",
       "      <td>0.154507</td>\n",
       "      <td>0.158957</td>\n",
       "      <td>0.116991</td>\n",
       "      <td>-0.001926</td>\n",
       "      <td>0.022811</td>\n",
       "      <td>-0.000721</td>\n",
       "      <td>0.580970</td>\n",
       "      <td>0.415414</td>\n",
       "      <td>1.000000</td>\n",
       "      <td>0.616817</td>\n",
       "      <td>0.124805</td>\n",
       "      <td>0.099150</td>\n",
       "      <td>0.074927</td>\n",
       "      <td>0.182469</td>\n",
       "      <td>0.067306</td>\n",
       "      <td>0.683924</td>\n",
       "      <td>-0.028341</td>\n",
       "      <td>-0.033073</td>\n",
       "    </tr>\n",
       "    <tr>\n",
       "      <th>Inflight_Entertainment</th>\n",
       "      <td>-0.001078</td>\n",
       "      <td>0.068998</td>\n",
       "      <td>0.137538</td>\n",
       "      <td>0.201782</td>\n",
       "      <td>-0.022326</td>\n",
       "      <td>0.044715</td>\n",
       "      <td>-0.000340</td>\n",
       "      <td>0.627265</td>\n",
       "      <td>0.279391</td>\n",
       "      <td>0.616817</td>\n",
       "      <td>1.000000</td>\n",
       "      <td>0.412266</td>\n",
       "      <td>0.303203</td>\n",
       "      <td>0.382782</td>\n",
       "      <td>0.114343</td>\n",
       "      <td>0.411018</td>\n",
       "      <td>0.695269</td>\n",
       "      <td>-0.025085</td>\n",
       "      <td>-0.028499</td>\n",
       "    </tr>\n",
       "    <tr>\n",
       "      <th>Onboard_Service</th>\n",
       "      <td>0.056544</td>\n",
       "      <td>0.054977</td>\n",
       "      <td>0.117880</td>\n",
       "      <td>0.113658</td>\n",
       "      <td>0.060982</td>\n",
       "      <td>0.039988</td>\n",
       "      <td>-0.031606</td>\n",
       "      <td>0.050688</td>\n",
       "      <td>0.149430</td>\n",
       "      <td>0.124805</td>\n",
       "      <td>0.412266</td>\n",
       "      <td>1.000000</td>\n",
       "      <td>0.366658</td>\n",
       "      <td>0.524981</td>\n",
       "      <td>0.247438</td>\n",
       "      <td>0.554734</td>\n",
       "      <td>0.117546</td>\n",
       "      <td>-0.026018</td>\n",
       "      <td>-0.032925</td>\n",
       "    </tr>\n",
       "    <tr>\n",
       "      <th>LegRoom_Service</th>\n",
       "      <td>0.041921</td>\n",
       "      <td>0.033299</td>\n",
       "      <td>0.136995</td>\n",
       "      <td>0.159699</td>\n",
       "      <td>0.003373</td>\n",
       "      <td>0.116754</td>\n",
       "      <td>-0.002428</td>\n",
       "      <td>0.035870</td>\n",
       "      <td>0.120354</td>\n",
       "      <td>0.099150</td>\n",
       "      <td>0.303203</td>\n",
       "      <td>0.366658</td>\n",
       "      <td>1.000000</td>\n",
       "      <td>0.379113</td>\n",
       "      <td>0.150935</td>\n",
       "      <td>0.373213</td>\n",
       "      <td>0.097982</td>\n",
       "      <td>0.015434</td>\n",
       "      <td>0.009162</td>\n",
       "    </tr>\n",
       "    <tr>\n",
       "      <th>Baggage_Handling</th>\n",
       "      <td>0.073085</td>\n",
       "      <td>-0.049863</td>\n",
       "      <td>0.071549</td>\n",
       "      <td>0.118199</td>\n",
       "      <td>0.065684</td>\n",
       "      <td>0.040685</td>\n",
       "      <td>-0.004395</td>\n",
       "      <td>0.037617</td>\n",
       "      <td>0.084583</td>\n",
       "      <td>0.074927</td>\n",
       "      <td>0.382782</td>\n",
       "      <td>0.524981</td>\n",
       "      <td>0.379113</td>\n",
       "      <td>1.000000</td>\n",
       "      <td>0.240033</td>\n",
       "      <td>0.631964</td>\n",
       "      <td>0.102182</td>\n",
       "      <td>0.001930</td>\n",
       "      <td>-0.005591</td>\n",
       "    </tr>\n",
       "    <tr>\n",
       "      <th>Checking_Service</th>\n",
       "      <td>0.079521</td>\n",
       "      <td>0.025388</td>\n",
       "      <td>0.075720</td>\n",
       "      <td>0.046046</td>\n",
       "      <td>0.082461</td>\n",
       "      <td>-0.000108</td>\n",
       "      <td>-0.054954</td>\n",
       "      <td>0.076775</td>\n",
       "      <td>0.203309</td>\n",
       "      <td>0.182469</td>\n",
       "      <td>0.114343</td>\n",
       "      <td>0.247438</td>\n",
       "      <td>0.150935</td>\n",
       "      <td>0.240033</td>\n",
       "      <td>1.000000</td>\n",
       "      <td>0.239170</td>\n",
       "      <td>0.165062</td>\n",
       "      <td>-0.019893</td>\n",
       "      <td>-0.027169</td>\n",
       "    </tr>\n",
       "    <tr>\n",
       "      <th>Inflight_Service</th>\n",
       "      <td>0.076587</td>\n",
       "      <td>-0.059083</td>\n",
       "      <td>0.066355</td>\n",
       "      <td>0.108419</td>\n",
       "      <td>0.067804</td>\n",
       "      <td>0.035769</td>\n",
       "      <td>-0.005129</td>\n",
       "      <td>0.039992</td>\n",
       "      <td>0.071972</td>\n",
       "      <td>0.067306</td>\n",
       "      <td>0.411018</td>\n",
       "      <td>0.554734</td>\n",
       "      <td>0.373213</td>\n",
       "      <td>0.631964</td>\n",
       "      <td>0.239170</td>\n",
       "      <td>1.000000</td>\n",
       "      <td>0.096606</td>\n",
       "      <td>-0.052823</td>\n",
       "      <td>-0.062548</td>\n",
       "    </tr>\n",
       "    <tr>\n",
       "      <th>Cleanliness</th>\n",
       "      <td>0.020411</td>\n",
       "      <td>0.048418</td>\n",
       "      <td>0.105578</td>\n",
       "      <td>0.125768</td>\n",
       "      <td>-0.007670</td>\n",
       "      <td>0.010974</td>\n",
       "      <td>-0.014195</td>\n",
       "      <td>0.659253</td>\n",
       "      <td>0.320912</td>\n",
       "      <td>0.683924</td>\n",
       "      <td>0.695269</td>\n",
       "      <td>0.117546</td>\n",
       "      <td>0.097982</td>\n",
       "      <td>0.102182</td>\n",
       "      <td>0.165062</td>\n",
       "      <td>0.096606</td>\n",
       "      <td>1.000000</td>\n",
       "      <td>-0.016378</td>\n",
       "      <td>-0.019905</td>\n",
       "    </tr>\n",
       "    <tr>\n",
       "      <th>Departure_Delay_Time</th>\n",
       "      <td>-0.009884</td>\n",
       "      <td>-0.004334</td>\n",
       "      <td>0.003446</td>\n",
       "      <td>-0.010078</td>\n",
       "      <td>-0.000238</td>\n",
       "      <td>-0.001062</td>\n",
       "      <td>0.008039</td>\n",
       "      <td>-0.025957</td>\n",
       "      <td>-0.021037</td>\n",
       "      <td>-0.028341</td>\n",
       "      <td>-0.025085</td>\n",
       "      <td>-0.026018</td>\n",
       "      <td>0.015434</td>\n",
       "      <td>0.001930</td>\n",
       "      <td>-0.019893</td>\n",
       "      <td>-0.052823</td>\n",
       "      <td>-0.016378</td>\n",
       "      <td>1.000000</td>\n",
       "      <td>0.955770</td>\n",
       "    </tr>\n",
       "    <tr>\n",
       "      <th>Arrival_Delay_Time</th>\n",
       "      <td>-0.028862</td>\n",
       "      <td>-0.007359</td>\n",
       "      <td>0.000117</td>\n",
       "      <td>-0.012553</td>\n",
       "      <td>-0.001442</td>\n",
       "      <td>-0.003371</td>\n",
       "      <td>0.007559</td>\n",
       "      <td>-0.028392</td>\n",
       "      <td>-0.025841</td>\n",
       "      <td>-0.033073</td>\n",
       "      <td>-0.028499</td>\n",
       "      <td>-0.032925</td>\n",
       "      <td>0.009162</td>\n",
       "      <td>-0.005591</td>\n",
       "      <td>-0.027169</td>\n",
       "      <td>-0.062548</td>\n",
       "      <td>-0.019905</td>\n",
       "      <td>0.955770</td>\n",
       "      <td>1.000000</td>\n",
       "    </tr>\n",
       "  </tbody>\n",
       "</table>\n",
       "</div>"
      ],
      "text/plain": [
       "                              id       Age  Flight_Distance  Wifi_Service  \\\n",
       "id                      1.000000  0.010211         0.095335     -0.030303   \n",
       "Age                     0.010211  1.000000         0.099409      0.009242   \n",
       "Flight_Distance         0.095335  0.099409         1.000000      0.005007   \n",
       "Wifi_Service           -0.030303  0.009242         0.005007      1.000000   \n",
       "Departure_Arrival_Time -0.002502  0.032449        -0.014401      0.349137   \n",
       "Online_Booking          0.010389  0.013565         0.062989      0.710684   \n",
       "Gate_Location           0.001843  0.003308         0.008410      0.347790   \n",
       "Food_Drink             -0.006789  0.023841         0.057322      0.122306   \n",
       "Online_Boarding         0.055767  0.202058         0.214629      0.459366   \n",
       "Seat_Comfort            0.049212  0.154507         0.158957      0.116991   \n",
       "Inflight_Entertainment -0.001078  0.068998         0.137538      0.201782   \n",
       "Onboard_Service         0.056544  0.054977         0.117880      0.113658   \n",
       "LegRoom_Service         0.041921  0.033299         0.136995      0.159699   \n",
       "Baggage_Handling        0.073085 -0.049863         0.071549      0.118199   \n",
       "Checking_Service        0.079521  0.025388         0.075720      0.046046   \n",
       "Inflight_Service        0.076587 -0.059083         0.066355      0.108419   \n",
       "Cleanliness             0.020411  0.048418         0.105578      0.125768   \n",
       "Departure_Delay_Time   -0.009884 -0.004334         0.003446     -0.010078   \n",
       "Arrival_Delay_Time     -0.028862 -0.007359         0.000117     -0.012553   \n",
       "\n",
       "                        Departure_Arrival_Time  Online_Booking  Gate_Location  \\\n",
       "id                                   -0.002502        0.010389       0.001843   \n",
       "Age                                   0.032449        0.013565       0.003308   \n",
       "Flight_Distance                      -0.014401        0.062989       0.008410   \n",
       "Wifi_Service                          0.349137        0.710684       0.347790   \n",
       "Departure_Arrival_Time                1.000000        0.440230       0.458439   \n",
       "Online_Booking                        0.440230        1.000000       0.465514   \n",
       "Gate_Location                         0.458439        0.465514       1.000000   \n",
       "Food_Drink                           -0.016006        0.025141      -0.009694   \n",
       "Online_Boarding                       0.080937        0.408003       0.006993   \n",
       "Seat_Comfort                         -0.001926        0.022811      -0.000721   \n",
       "Inflight_Entertainment               -0.022326        0.044715      -0.000340   \n",
       "Onboard_Service                       0.060982        0.039988      -0.031606   \n",
       "LegRoom_Service                       0.003373        0.116754      -0.002428   \n",
       "Baggage_Handling                      0.065684        0.040685      -0.004395   \n",
       "Checking_Service                      0.082461       -0.000108      -0.054954   \n",
       "Inflight_Service                      0.067804        0.035769      -0.005129   \n",
       "Cleanliness                          -0.007670        0.010974      -0.014195   \n",
       "Departure_Delay_Time                 -0.000238       -0.001062       0.008039   \n",
       "Arrival_Delay_Time                   -0.001442       -0.003371       0.007559   \n",
       "\n",
       "                        Food_Drink  Online_Boarding  Seat_Comfort  \\\n",
       "id                       -0.006789         0.055767      0.049212   \n",
       "Age                       0.023841         0.202058      0.154507   \n",
       "Flight_Distance           0.057322         0.214629      0.158957   \n",
       "Wifi_Service              0.122306         0.459366      0.116991   \n",
       "Departure_Arrival_Time   -0.016006         0.080937     -0.001926   \n",
       "Online_Booking            0.025141         0.408003      0.022811   \n",
       "Gate_Location            -0.009694         0.006993     -0.000721   \n",
       "Food_Drink                1.000000         0.229601      0.580970   \n",
       "Online_Boarding           0.229601         1.000000      0.415414   \n",
       "Seat_Comfort              0.580970         0.415414      1.000000   \n",
       "Inflight_Entertainment    0.627265         0.279391      0.616817   \n",
       "Onboard_Service           0.050688         0.149430      0.124805   \n",
       "LegRoom_Service           0.035870         0.120354      0.099150   \n",
       "Baggage_Handling          0.037617         0.084583      0.074927   \n",
       "Checking_Service          0.076775         0.203309      0.182469   \n",
       "Inflight_Service          0.039992         0.071972      0.067306   \n",
       "Cleanliness               0.659253         0.320912      0.683924   \n",
       "Departure_Delay_Time     -0.025957        -0.021037     -0.028341   \n",
       "Arrival_Delay_Time       -0.028392        -0.025841     -0.033073   \n",
       "\n",
       "                        Inflight_Entertainment  Onboard_Service  \\\n",
       "id                                   -0.001078         0.056544   \n",
       "Age                                   0.068998         0.054977   \n",
       "Flight_Distance                       0.137538         0.117880   \n",
       "Wifi_Service                          0.201782         0.113658   \n",
       "Departure_Arrival_Time               -0.022326         0.060982   \n",
       "Online_Booking                        0.044715         0.039988   \n",
       "Gate_Location                        -0.000340        -0.031606   \n",
       "Food_Drink                            0.627265         0.050688   \n",
       "Online_Boarding                       0.279391         0.149430   \n",
       "Seat_Comfort                          0.616817         0.124805   \n",
       "Inflight_Entertainment                1.000000         0.412266   \n",
       "Onboard_Service                       0.412266         1.000000   \n",
       "LegRoom_Service                       0.303203         0.366658   \n",
       "Baggage_Handling                      0.382782         0.524981   \n",
       "Checking_Service                      0.114343         0.247438   \n",
       "Inflight_Service                      0.411018         0.554734   \n",
       "Cleanliness                           0.695269         0.117546   \n",
       "Departure_Delay_Time                 -0.025085        -0.026018   \n",
       "Arrival_Delay_Time                   -0.028499        -0.032925   \n",
       "\n",
       "                        LegRoom_Service  Baggage_Handling  Checking_Service  \\\n",
       "id                             0.041921          0.073085          0.079521   \n",
       "Age                            0.033299         -0.049863          0.025388   \n",
       "Flight_Distance                0.136995          0.071549          0.075720   \n",
       "Wifi_Service                   0.159699          0.118199          0.046046   \n",
       "Departure_Arrival_Time         0.003373          0.065684          0.082461   \n",
       "Online_Booking                 0.116754          0.040685         -0.000108   \n",
       "Gate_Location                 -0.002428         -0.004395         -0.054954   \n",
       "Food_Drink                     0.035870          0.037617          0.076775   \n",
       "Online_Boarding                0.120354          0.084583          0.203309   \n",
       "Seat_Comfort                   0.099150          0.074927          0.182469   \n",
       "Inflight_Entertainment         0.303203          0.382782          0.114343   \n",
       "Onboard_Service                0.366658          0.524981          0.247438   \n",
       "LegRoom_Service                1.000000          0.379113          0.150935   \n",
       "Baggage_Handling               0.379113          1.000000          0.240033   \n",
       "Checking_Service               0.150935          0.240033          1.000000   \n",
       "Inflight_Service               0.373213          0.631964          0.239170   \n",
       "Cleanliness                    0.097982          0.102182          0.165062   \n",
       "Departure_Delay_Time           0.015434          0.001930         -0.019893   \n",
       "Arrival_Delay_Time             0.009162         -0.005591         -0.027169   \n",
       "\n",
       "                        Inflight_Service  Cleanliness  Departure_Delay_Time  \\\n",
       "id                              0.076587     0.020411             -0.009884   \n",
       "Age                            -0.059083     0.048418             -0.004334   \n",
       "Flight_Distance                 0.066355     0.105578              0.003446   \n",
       "Wifi_Service                    0.108419     0.125768             -0.010078   \n",
       "Departure_Arrival_Time          0.067804    -0.007670             -0.000238   \n",
       "Online_Booking                  0.035769     0.010974             -0.001062   \n",
       "Gate_Location                  -0.005129    -0.014195              0.008039   \n",
       "Food_Drink                      0.039992     0.659253             -0.025957   \n",
       "Online_Boarding                 0.071972     0.320912             -0.021037   \n",
       "Seat_Comfort                    0.067306     0.683924             -0.028341   \n",
       "Inflight_Entertainment          0.411018     0.695269             -0.025085   \n",
       "Onboard_Service                 0.554734     0.117546             -0.026018   \n",
       "LegRoom_Service                 0.373213     0.097982              0.015434   \n",
       "Baggage_Handling                0.631964     0.102182              0.001930   \n",
       "Checking_Service                0.239170     0.165062             -0.019893   \n",
       "Inflight_Service                1.000000     0.096606             -0.052823   \n",
       "Cleanliness                     0.096606     1.000000             -0.016378   \n",
       "Departure_Delay_Time           -0.052823    -0.016378              1.000000   \n",
       "Arrival_Delay_Time             -0.062548    -0.019905              0.955770   \n",
       "\n",
       "                        Arrival_Delay_Time  \n",
       "id                               -0.028862  \n",
       "Age                              -0.007359  \n",
       "Flight_Distance                   0.000117  \n",
       "Wifi_Service                     -0.012553  \n",
       "Departure_Arrival_Time           -0.001442  \n",
       "Online_Booking                   -0.003371  \n",
       "Gate_Location                     0.007559  \n",
       "Food_Drink                       -0.028392  \n",
       "Online_Boarding                  -0.025841  \n",
       "Seat_Comfort                     -0.033073  \n",
       "Inflight_Entertainment           -0.028499  \n",
       "Onboard_Service                  -0.032925  \n",
       "LegRoom_Service                   0.009162  \n",
       "Baggage_Handling                 -0.005591  \n",
       "Checking_Service                 -0.027169  \n",
       "Inflight_Service                 -0.062548  \n",
       "Cleanliness                      -0.019905  \n",
       "Departure_Delay_Time              0.955770  \n",
       "Arrival_Delay_Time                1.000000  "
      ]
     },
     "execution_count": 21,
     "metadata": {},
     "output_type": "execute_result"
    }
   ],
   "source": [
    "# correlation matrix\n",
    "df.corr()"
   ]
  },
  {
   "cell_type": "markdown",
   "metadata": {},
   "source": [
    "Let us plot correlation matrix"
   ]
  },
  {
   "cell_type": "code",
   "execution_count": 22,
   "metadata": {},
   "outputs": [
    {
     "data": {
      "image/png": "[encoded data removed]",
      "text/plain": [
       "<Figure size 864x576 with 2 Axes>"
      ]
     },
     "metadata": {
      "needs_background": "light"
     },
     "output_type": "display_data"
    }
   ],
   "source": [
    "plt.figure(figsize = (12,8))\n",
    "df_corr = df.corr()\n",
    "sns.heatmap(df_corr,fmt = \"\", cmap = \"RdYlGn\", linewidth = 0.30)\n",
    "plt.title('Correlation Matrix')\n",
    "plt.show()"
   ]
  },
  {
   "cell_type": "markdown",
   "metadata": {},
   "source": [
    "We can observed that, there is less correlation betwteen variables"
   ]
  },
  {
   "cell_type": "markdown",
   "metadata": {},
   "source": [
    "## Univariate Analysis"
   ]
  },
  {
   "cell_type": "code",
   "execution_count": 23,
   "metadata": {},
   "outputs": [
    {
     "data": {
      "text/plain": [
       "Text(0.5, 1.0, 'Count Plot for Gender')"
      ]
     },
     "execution_count": 23,
     "metadata": {},
     "output_type": "execute_result"
    },
    {
     "data": {
      "image/png": "[encoded data removed]",
      "text/plain": [
       "<Figure size 864x432 with 1 Axes>"
      ]
     },
     "metadata": {
      "needs_background": "light"
     },
     "output_type": "display_data"
    }
   ],
   "source": [
    "# Count plot for Gender\n",
    "plt.figure(figsize = (12,6))\n",
    "sns.countplot(x='Gender', data=df)\n",
    "plt.title('Count Plot for Gender')"
   ]
  },
  {
   "cell_type": "markdown",
   "metadata": {},
   "source": [
    "From the count plot, we can observed that number of female air passangers are more than that of male passengers."
   ]
  },
  {
   "cell_type": "code",
   "execution_count": 24,
   "metadata": {},
   "outputs": [
    {
     "data": {
      "text/plain": [
       "Text(0.5, 1.0, 'Count Plot for Customer Type')"
      ]
     },
     "execution_count": 24,
     "metadata": {},
     "output_type": "execute_result"
    },
    {
     "data": {
      "image/png": "[encoded data removed]",
      "text/plain": [
       "<Figure size 864x432 with 1 Axes>"
      ]
     },
     "metadata": {
      "needs_background": "light"
     },
     "output_type": "display_data"
    }
   ],
   "source": [
    "# Count plot for customer type\n",
    "plt.figure(figsize = (12,6))\n",
    "sns.countplot(x='Customer_Type', data=df)\n",
    "plt.title('Count Plot for Customer Type')"
   ]
  },
  {
   "cell_type": "markdown",
   "metadata": {},
   "source": [
    "From the count plot, we can observed that the loyal customers are more than of disloyal customers."
   ]
  },
  {
   "cell_type": "code",
   "execution_count": 25,
   "metadata": {},
   "outputs": [
    {
     "data": {
      "text/plain": [
       "Text(0.5, 1.0, 'Count Plot for Travel Type')"
      ]
     },
     "execution_count": 25,
     "metadata": {},
     "output_type": "execute_result"
    },
    {
     "data": {
      "image/png": "[encoded data removed]",
      "text/plain": [
       "<Figure size 864x432 with 1 Axes>"
      ]
     },
     "metadata": {
      "needs_background": "light"
     },
     "output_type": "display_data"
    }
   ],
   "source": [
    "# Count plot for travel type\n",
    "plt.figure(figsize = (12,6))\n",
    "sns.countplot(x='Travel_Type', data=df) \n",
    "plt.title('Count Plot for Travel Type')"
   ]
  },
  {
   "cell_type": "markdown",
   "metadata": {},
   "source": [
    "From the count plot, we can observed that Business travel passengers more than the personal travel passengers."
   ]
  },
  {
   "cell_type": "code",
   "execution_count": 26,
   "metadata": {},
   "outputs": [
    {
     "data": {
      "text/plain": [
       "Text(0.5, 1.0, 'Count Plot for Class')"
      ]
     },
     "execution_count": 26,
     "metadata": {},
     "output_type": "execute_result"
    },
    {
     "data": {
      "image/png": "[encoded data removed]",
      "text/plain": [
       "<Figure size 864x432 with 1 Axes>"
      ]
     },
     "metadata": {
      "needs_background": "light"
     },
     "output_type": "display_data"
    }
   ],
   "source": [
    "# Count plot for Class\n",
    "plt.figure(figsize = (12,6))\n",
    "sns.countplot(x='Class', data=df)\n",
    "plt.title('Count Plot for Class')"
   ]
  },
  {
   "cell_type": "markdown",
   "metadata": {},
   "source": [
    "From the count plot, we can observed that Eco class passengers than the Business class passengers and Eco Plus passengers."
   ]
  },
  {
   "cell_type": "code",
   "execution_count": 27,
   "metadata": {},
   "outputs": [
    {
     "data": {
      "text/plain": [
       "Text(0.5, 1.0, 'Count Plot for satisfaction')"
      ]
     },
     "execution_count": 27,
     "metadata": {},
     "output_type": "execute_result"
    },
    {
     "data": {
      "image/png": "[encoded data removed]",
      "text/plain": [
       "<Figure size 864x432 with 1 Axes>"
      ]
     },
     "metadata": {
      "needs_background": "light"
     },
     "output_type": "display_data"
    }
   ],
   "source": [
    "# Count plot for satisfaction\n",
    "plt.figure(figsize = (12,6))\n",
    "sns.countplot(x='satisfaction', data=df)\n",
    "plt.title('Count Plot for satisfaction')"
   ]
  },
  {
   "cell_type": "markdown",
   "metadata": {},
   "source": [
    "From the count plot, we can observed that neutral or dissatisfied passengers are more than satishfied customers."
   ]
  },
  {
   "cell_type": "markdown",
   "metadata": {},
   "source": [
    "## Bivariate Analysis"
   ]
  },
  {
   "cell_type": "code",
   "execution_count": 28,
   "metadata": {},
   "outputs": [
    {
     "data": {
      "text/plain": [
       "Text(0.5, 1.0, 'Stacked bar plot between satisfaction and Age variable')"
      ]
     },
     "execution_count": 28,
     "metadata": {},
     "output_type": "execute_result"
    },
    {
     "data": {
      "image/png": "[encoded data removed]",
      "text/plain": [
       "<Figure size 864x432 with 1 Axes>"
      ]
     },
     "metadata": {
      "needs_background": "light"
     },
     "output_type": "display_data"
    }
   ],
   "source": [
    "# Stacked Bar plot\n",
    "plt.figure(figsize = (12,6))\n",
    "sns.barplot(x='satisfaction',y='Age', data=df)\n",
    "plt.title('Stacked bar plot between satisfaction and Age variable')"
   ]
  },
  {
   "cell_type": "markdown",
   "metadata": {},
   "source": [
    "From the stacked bar chart, we can observed that the average age of satisfied passengers is around 42 and the average age of neutral or dissatisfied passengers is around 37."
   ]
  },
  {
   "cell_type": "code",
   "execution_count": 29,
   "metadata": {},
   "outputs": [
    {
     "data": {
      "text/plain": [
       "Text(0.5, 1.0, 'Stacked bar plot between Gender and Age variable')"
      ]
     },
     "execution_count": 29,
     "metadata": {},
     "output_type": "execute_result"
    },
    {
     "data": {
      "image/png": "[encoded data removed]",
      "text/plain": [
       "<Figure size 864x432 with 1 Axes>"
      ]
     },
     "metadata": {
      "needs_background": "light"
     },
     "output_type": "display_data"
    }
   ],
   "source": [
    "# Stacked Bar plot\n",
    "plt.figure(figsize = (12,6))\n",
    "sns.barplot(x='Gender',y='Age', data=df)\n",
    "plt.title('Stacked bar plot between Gender and Age variable')"
   ]
  },
  {
   "cell_type": "markdown",
   "metadata": {},
   "source": [
    "From the stacked bar chart, we can observed that the average age of both Female and Male passengers is around 39."
   ]
  },
  {
   "cell_type": "code",
   "execution_count": 30,
   "metadata": {},
   "outputs": [
    {
     "data": {
      "text/plain": [
       "Text(0.5, 1.0, 'Stacked bar plot between customer type and Age variable')"
      ]
     },
     "execution_count": 30,
     "metadata": {},
     "output_type": "execute_result"
    },
    {
     "data": {
      "image/png": "[encoded data removed]",
      "text/plain": [
       "<Figure size 864x432 with 1 Axes>"
      ]
     },
     "metadata": {
      "needs_background": "light"
     },
     "output_type": "display_data"
    }
   ],
   "source": [
    "# Stacked Bar plot\n",
    "plt.figure(figsize = (12,6))\n",
    "sns.barplot(x='Customer_Type',y='Age', data=df)\n",
    "plt.title('Stacked bar plot between customer type and Age variable')"
   ]
  },
  {
   "cell_type": "markdown",
   "metadata": {},
   "source": [
    "From the stacked bar chart, we can observed that the average age of loyal customers is around 42 and the disloyal customers is around 29."
   ]
  },
  {
   "cell_type": "code",
   "execution_count": 31,
   "metadata": {},
   "outputs": [
    {
     "data": {
      "text/plain": [
       "Text(0.5, 1.0, 'Stacked bar plot between Travel Type and Age variable')"
      ]
     },
     "execution_count": 31,
     "metadata": {},
     "output_type": "execute_result"
    },
    {
     "data": {
      "image/png": "[encoded data removed]",
      "text/plain": [
       "<Figure size 864x432 with 1 Axes>"
      ]
     },
     "metadata": {
      "needs_background": "light"
     },
     "output_type": "display_data"
    }
   ],
   "source": [
    "# Stacked Bar plot\n",
    "plt.figure(figsize = (12,6))\n",
    "sns.barplot(x='Travel_Type',y='Age', data=df)\n",
    "plt.title('Stacked bar plot between Travel Type and Age variable')"
   ]
  },
  {
   "cell_type": "markdown",
   "metadata": {},
   "source": [
    "From the stacked bar chart, we can observed that the average age of business travel passengers is around 39 and the personal travel passengers is around 38."
   ]
  },
  {
   "cell_type": "code",
   "execution_count": 32,
   "metadata": {},
   "outputs": [
    {
     "data": {
      "text/plain": [
       "Text(0.5, 1.0, 'Stacked bar plot between Class and Age variable ')"
      ]
     },
     "execution_count": 32,
     "metadata": {},
     "output_type": "execute_result"
    },
    {
     "data": {
      "image/png": "[encoded data removed]",
      "text/plain": [
       "<Figure size 864x432 with 1 Axes>"
      ]
     },
     "metadata": {
      "needs_background": "light"
     },
     "output_type": "display_data"
    }
   ],
   "source": [
    "# Stacked Bar plot\n",
    "plt.figure(figsize = (12,6))\n",
    "sns.barplot(x='Class',y='Age', data=df)\n",
    "plt.title('Stacked bar plot between Class and Age variable ')"
   ]
  },
  {
   "cell_type": "markdown",
   "metadata": {},
   "source": [
    "From the stacked bar chart, we can observed that the average age of Eco class passengers is around 37, the average age of Business class passengers is around 43 and the average age of Eco Plus passengers is around 38."
   ]
  },
  {
   "cell_type": "markdown",
   "metadata": {},
   "source": [
    "# Encoding the Categorical variables"
   ]
  },
  {
   "cell_type": "code",
   "execution_count": 33,
   "metadata": {},
   "outputs": [
    {
     "data": {
      "text/plain": [
       "0        1\n",
       "1        1\n",
       "2        0\n",
       "3        1\n",
       "4        1\n",
       "        ..\n",
       "25971    0\n",
       "25972    1\n",
       "25973    0\n",
       "25974    1\n",
       "25975    0\n",
       "Name: satisfaction, Length: 25976, dtype: int32"
      ]
     },
     "execution_count": 33,
     "metadata": {},
     "output_type": "execute_result"
    }
   ],
   "source": [
    "# Encoding Target variable\n",
    "le = LabelEncoder()\n",
    "le = le.fit_transform(df['satisfaction'])\n",
    "df['satisfaction'] = pd.DataFrame(le,columns=['satisfaction'])\n",
    "df['satisfaction']"
   ]
  },
  {
   "cell_type": "code",
   "execution_count": 34,
   "metadata": {},
   "outputs": [
    {
     "data": {
      "text/html": [
       "<div>\n",
       "<style scoped>\n",
       "    .dataframe tbody tr th:only-of-type {\n",
       "        vertical-align: middle;\n",
       "    }\n",
       "\n",
       "    .dataframe tbody tr th {\n",
       "        vertical-align: top;\n",
       "    }\n",
       "\n",
       "    .dataframe thead th {\n",
       "        text-align: right;\n",
       "    }\n",
       "</style>\n",
       "<table border=\"1\" class=\"dataframe\">\n",
       "  <thead>\n",
       "    <tr style=\"text-align: right;\">\n",
       "      <th></th>\n",
       "      <th>id</th>\n",
       "      <th>Age</th>\n",
       "      <th>Flight_Distance</th>\n",
       "      <th>Wifi_Service</th>\n",
       "      <th>Departure_Arrival_Time</th>\n",
       "      <th>Online_Booking</th>\n",
       "      <th>Gate_Location</th>\n",
       "      <th>Food_Drink</th>\n",
       "      <th>Online_Boarding</th>\n",
       "      <th>Seat_Comfort</th>\n",
       "      <th>...</th>\n",
       "      <th>satisfaction</th>\n",
       "      <th>Gender_Female</th>\n",
       "      <th>Gender_Male</th>\n",
       "      <th>Customer_Type_Loyal Customer</th>\n",
       "      <th>Customer_Type_disloyal Customer</th>\n",
       "      <th>Travel_Type_Business travel</th>\n",
       "      <th>Travel_Type_Personal Travel</th>\n",
       "      <th>Class_Business</th>\n",
       "      <th>Class_Eco</th>\n",
       "      <th>Class_Eco Plus</th>\n",
       "    </tr>\n",
       "  </thead>\n",
       "  <tbody>\n",
       "    <tr>\n",
       "      <th>0</th>\n",
       "      <td>19556</td>\n",
       "      <td>52</td>\n",
       "      <td>160</td>\n",
       "      <td>5</td>\n",
       "      <td>4</td>\n",
       "      <td>3</td>\n",
       "      <td>4</td>\n",
       "      <td>3</td>\n",
       "      <td>4</td>\n",
       "      <td>3</td>\n",
       "      <td>...</td>\n",
       "      <td>1</td>\n",
       "      <td>1</td>\n",
       "      <td>0</td>\n",
       "      <td>1</td>\n",
       "      <td>0</td>\n",
       "      <td>1</td>\n",
       "      <td>0</td>\n",
       "      <td>0</td>\n",
       "      <td>1</td>\n",
       "      <td>0</td>\n",
       "    </tr>\n",
       "    <tr>\n",
       "      <th>1</th>\n",
       "      <td>90035</td>\n",
       "      <td>36</td>\n",
       "      <td>2863</td>\n",
       "      <td>1</td>\n",
       "      <td>1</td>\n",
       "      <td>3</td>\n",
       "      <td>1</td>\n",
       "      <td>5</td>\n",
       "      <td>4</td>\n",
       "      <td>5</td>\n",
       "      <td>...</td>\n",
       "      <td>1</td>\n",
       "      <td>1</td>\n",
       "      <td>0</td>\n",
       "      <td>1</td>\n",
       "      <td>0</td>\n",
       "      <td>1</td>\n",
       "      <td>0</td>\n",
       "      <td>1</td>\n",
       "      <td>0</td>\n",
       "      <td>0</td>\n",
       "    </tr>\n",
       "    <tr>\n",
       "      <th>2</th>\n",
       "      <td>12360</td>\n",
       "      <td>20</td>\n",
       "      <td>192</td>\n",
       "      <td>2</td>\n",
       "      <td>0</td>\n",
       "      <td>2</td>\n",
       "      <td>4</td>\n",
       "      <td>2</td>\n",
       "      <td>2</td>\n",
       "      <td>2</td>\n",
       "      <td>...</td>\n",
       "      <td>0</td>\n",
       "      <td>0</td>\n",
       "      <td>1</td>\n",
       "      <td>0</td>\n",
       "      <td>1</td>\n",
       "      <td>1</td>\n",
       "      <td>0</td>\n",
       "      <td>0</td>\n",
       "      <td>1</td>\n",
       "      <td>0</td>\n",
       "    </tr>\n",
       "    <tr>\n",
       "      <th>3</th>\n",
       "      <td>77959</td>\n",
       "      <td>44</td>\n",
       "      <td>3377</td>\n",
       "      <td>0</td>\n",
       "      <td>0</td>\n",
       "      <td>0</td>\n",
       "      <td>2</td>\n",
       "      <td>3</td>\n",
       "      <td>4</td>\n",
       "      <td>4</td>\n",
       "      <td>...</td>\n",
       "      <td>1</td>\n",
       "      <td>0</td>\n",
       "      <td>1</td>\n",
       "      <td>1</td>\n",
       "      <td>0</td>\n",
       "      <td>1</td>\n",
       "      <td>0</td>\n",
       "      <td>1</td>\n",
       "      <td>0</td>\n",
       "      <td>0</td>\n",
       "    </tr>\n",
       "    <tr>\n",
       "      <th>4</th>\n",
       "      <td>36875</td>\n",
       "      <td>49</td>\n",
       "      <td>1182</td>\n",
       "      <td>2</td>\n",
       "      <td>3</td>\n",
       "      <td>4</td>\n",
       "      <td>3</td>\n",
       "      <td>4</td>\n",
       "      <td>1</td>\n",
       "      <td>2</td>\n",
       "      <td>...</td>\n",
       "      <td>1</td>\n",
       "      <td>1</td>\n",
       "      <td>0</td>\n",
       "      <td>1</td>\n",
       "      <td>0</td>\n",
       "      <td>1</td>\n",
       "      <td>0</td>\n",
       "      <td>0</td>\n",
       "      <td>1</td>\n",
       "      <td>0</td>\n",
       "    </tr>\n",
       "  </tbody>\n",
       "</table>\n",
       "<p>5 rows × 29 columns</p>\n",
       "</div>"
      ],
      "text/plain": [
       "      id  Age  Flight_Distance  Wifi_Service  Departure_Arrival_Time  \\\n",
       "0  19556   52              160             5                       4   \n",
       "1  90035   36             2863             1                       1   \n",
       "2  12360   20              192             2                       0   \n",
       "3  77959   44             3377             0                       0   \n",
       "4  36875   49             1182             2                       3   \n",
       "\n",
       "   Online_Booking  Gate_Location  Food_Drink  Online_Boarding  Seat_Comfort  \\\n",
       "0               3              4           3                4             3   \n",
       "1               3              1           5                4             5   \n",
       "2               2              4           2                2             2   \n",
       "3               0              2           3                4             4   \n",
       "4               4              3           4                1             2   \n",
       "\n",
       "   ...  satisfaction  Gender_Female  Gender_Male  \\\n",
       "0  ...             1              1            0   \n",
       "1  ...             1              1            0   \n",
       "2  ...             0              0            1   \n",
       "3  ...             1              0            1   \n",
       "4  ...             1              1            0   \n",
       "\n",
       "   Customer_Type_Loyal Customer  Customer_Type_disloyal Customer  \\\n",
       "0                             1                                0   \n",
       "1                             1                                0   \n",
       "2                             0                                1   \n",
       "3                             1                                0   \n",
       "4                             1                                0   \n",
       "\n",
       "   Travel_Type_Business travel  Travel_Type_Personal Travel  Class_Business  \\\n",
       "0                            1                            0               0   \n",
       "1                            1                            0               1   \n",
       "2                            1                            0               0   \n",
       "3                            1                            0               1   \n",
       "4                            1                            0               0   \n",
       "\n",
       "   Class_Eco  Class_Eco Plus  \n",
       "0          1               0  \n",
       "1          0               0  \n",
       "2          1               0  \n",
       "3          0               0  \n",
       "4          1               0  \n",
       "\n",
       "[5 rows x 29 columns]"
      ]
     },
     "execution_count": 34,
     "metadata": {},
     "output_type": "execute_result"
    }
   ],
   "source": [
    "# Encoding other variables \n",
    "df_encoded = pd.get_dummies(df,columns=['Gender','Customer_Type','Travel_Type','Class'])\n",
    "df_encoded.head()"
   ]
  },
  {
   "cell_type": "markdown",
   "metadata": {},
   "source": [
    "## Split dataset into train and test"
   ]
  },
  {
   "cell_type": "code",
   "execution_count": 35,
   "metadata": {},
   "outputs": [
    {
     "name": "stdout",
     "output_type": "stream",
     "text": [
      "X_train shape: (20780, 28)\n",
      "X_test shape: (5196, 28)\n",
      "y_train shape: (20780,)\n",
      "y_test shape: (5196,)\n"
     ]
    }
   ],
   "source": [
    "X = df_encoded.drop('satisfaction',axis=1)\n",
    "y  = df_encoded['satisfaction']\n",
    "\n",
    "X_train, X_test, y_train, y_test = train_test_split(X, y, test_size=0.2)\n",
    "\n",
    "print(f'X_train shape: {X_train.shape}')\n",
    "print(f'X_test shape: {X_test.shape}')\n",
    "print(f'y_train shape: {y_train.shape}')\n",
    "print(f'y_test shape: {y_test.shape}')"
   ]
  },
  {
   "cell_type": "markdown",
   "metadata": {},
   "source": [
    "## Model building using Decision trees"
   ]
  },
  {
   "cell_type": "markdown",
   "metadata": {},
   "source": [
    "### Decision Tree Classifer"
   ]
  },
  {
   "cell_type": "code",
   "execution_count": 36,
   "metadata": {},
   "outputs": [
    {
     "name": "stdout",
     "output_type": "stream",
     "text": [
      "Wall time: 132 ms\n"
     ]
    },
    {
     "data": {
      "text/plain": [
       "DecisionTreeClassifier(ccp_alpha=0.0, class_weight=None, criterion='gini',\n",
       "                       max_depth=None, max_features=None, max_leaf_nodes=None,\n",
       "                       min_impurity_decrease=0.0, min_impurity_split=None,\n",
       "                       min_samples_leaf=1, min_samples_split=2,\n",
       "                       min_weight_fraction_leaf=0.0, presort='deprecated',\n",
       "                       random_state=42, splitter='best')"
      ]
     },
     "execution_count": 36,
     "metadata": {},
     "output_type": "execute_result"
    }
   ],
   "source": [
    "%%time\n",
    "## Decision tree clasifier\n",
    "decision_cf = DecisionTreeClassifier(random_state=42)\n",
    "\n",
    "decision_cf.fit(X_train,y_train)"
   ]
  },
  {
   "cell_type": "code",
   "execution_count": 37,
   "metadata": {},
   "outputs": [
    {
     "data": {
      "text/plain": [
       "array([1, 0, 0, ..., 0, 0, 1])"
      ]
     },
     "execution_count": 37,
     "metadata": {},
     "output_type": "execute_result"
    }
   ],
   "source": [
    "## Model performance on test data\n",
    "y_pred_dt = decision_cf.predict(X_test)\n",
    "y_pred_dt"
   ]
  },
  {
   "cell_type": "code",
   "execution_count": 38,
   "metadata": {},
   "outputs": [
    {
     "data": {
      "text/plain": [
       "0    0.557929\n",
       "1    0.442071\n",
       "Name: pred, dtype: float64"
      ]
     },
     "execution_count": 38,
     "metadata": {},
     "output_type": "execute_result"
    }
   ],
   "source": [
    "# Satishfied or neutral or dissatishfied predictions for decision tree model\n",
    "pred_df = pd.DataFrame(y_pred_dt, columns=['pred'])\n",
    "# Here 1 is satishfied and 0 is neutral or dissatishfied passengers\n",
    "pred_df['pred'].value_counts(normalize=True)"
   ]
  },
  {
   "cell_type": "code",
   "execution_count": 39,
   "metadata": {},
   "outputs": [
    {
     "name": "stdout",
     "output_type": "stream",
     "text": [
      "Accuracy score for Decision Tree Classifer is 0.9362971516551193\n"
     ]
    }
   ],
   "source": [
    "## Model accuracy score\n",
    "acc_dt = accuracy_score(y_test, y_pred_dt)\n",
    "print(f'Accuracy score for Decision Tree Classifer is {acc_dt}')"
   ]
  },
  {
   "cell_type": "markdown",
   "metadata": {},
   "source": [
    "Confusion matrix is classification metric to evaluate model performance."
   ]
  },
  {
   "cell_type": "code",
   "execution_count": 40,
   "metadata": {},
   "outputs": [
    {
     "data": {
      "text/plain": [
       "array([[2743,  175],\n",
       "       [ 156, 2122]], dtype=int64)"
      ]
     },
     "execution_count": 40,
     "metadata": {},
     "output_type": "execute_result"
    }
   ],
   "source": [
    "## Confusion Matrix\n",
    "confusion_matrix(y_test, y_pred_dt)"
   ]
  },
  {
   "cell_type": "markdown",
   "metadata": {},
   "source": [
    "Let us plot confusion matrix"
   ]
  },
  {
   "cell_type": "code",
   "execution_count": 41,
   "metadata": {},
   "outputs": [
    {
     "data": {
      "text/plain": [
       "<sklearn.metrics._plot.confusion_matrix.ConfusionMatrixDisplay at 0x14af6e1a648>"
      ]
     },
     "execution_count": 41,
     "metadata": {},
     "output_type": "execute_result"
    },
    {
     "data": {
      "image/png": "[encoded data removed]",
      "text/plain": [
       "<Figure size 432x288 with 2 Axes>"
      ]
     },
     "metadata": {
      "needs_background": "light"
     },
     "output_type": "display_data"
    }
   ],
   "source": [
    "## plot confusion matrix\n",
    "plot_confusion_matrix(decision_cf, X_test, y_test)"
   ]
  },
  {
   "cell_type": "code",
   "execution_count": 42,
   "metadata": {},
   "outputs": [
    {
     "name": "stdout",
     "output_type": "stream",
     "text": [
      "              precision    recall  f1-score   support\n",
      "\n",
      "           0       0.95      0.94      0.94      2918\n",
      "           1       0.92      0.93      0.93      2278\n",
      "\n",
      "    accuracy                           0.94      5196\n",
      "   macro avg       0.94      0.94      0.94      5196\n",
      "weighted avg       0.94      0.94      0.94      5196\n",
      "\n"
     ]
    }
   ],
   "source": [
    "## Classification report\n",
    "print(classification_report(y_test, y_pred_dt))"
   ]
  },
  {
   "cell_type": "markdown",
   "metadata": {},
   "source": [
    "Here, f1_score is 0.94 it means that the model performing well.\n",
    "\n",
    "ROC curve is usually as a metric to evaluate model performance for unbalanced data."
   ]
  },
  {
   "cell_type": "code",
   "execution_count": 69,
   "metadata": {
    "scrolled": true
   },
   "outputs": [
    {
     "data": {
      "text/plain": [
       "<sklearn.metrics._plot.roc_curve.RocCurveDisplay at 0x14a81f86f08>"
      ]
     },
     "execution_count": 69,
     "metadata": {},
     "output_type": "execute_result"
    },
    {
     "data": {
      "image/png": "[encoded data removed]",
      "text/plain": [
       "<Figure size 432x288 with 1 Axes>"
      ]
     },
     "metadata": {
      "needs_background": "light"
     },
     "output_type": "display_data"
    }
   ],
   "source": [
    "## Roc curve\n",
    "plot_roc_curve(decision_cf, X_test, y_test)"
   ]
  },
  {
   "cell_type": "markdown",
   "metadata": {},
   "source": [
    "Here, area under curve is 0.93 it means that the model performing well."
   ]
  },
  {
   "cell_type": "code",
   "execution_count": 44,
   "metadata": {},
   "outputs": [
    {
     "name": "stdout",
     "output_type": "stream",
     "text": [
      "Feature: 0, Score: 0.02961\n",
      "Feature: 1, Score: 0.01816\n",
      "Feature: 2, Score: 0.01710\n",
      "Feature: 3, Score: 0.18313\n",
      "Feature: 4, Score: 0.00844\n",
      "Feature: 5, Score: 0.00341\n",
      "Feature: 6, Score: 0.00900\n",
      "Feature: 7, Score: 0.00619\n",
      "Feature: 8, Score: 0.35049\n",
      "Feature: 9, Score: 0.01280\n",
      "Feature: 10, Score: 0.04653\n",
      "Feature: 11, Score: 0.00845\n",
      "Feature: 12, Score: 0.01061\n",
      "Feature: 13, Score: 0.01210\n",
      "Feature: 14, Score: 0.02761\n",
      "Feature: 15, Score: 0.01385\n",
      "Feature: 16, Score: 0.01079\n",
      "Feature: 17, Score: 0.00702\n",
      "Feature: 18, Score: 0.00895\n",
      "Feature: 19, Score: 0.00099\n",
      "Feature: 20, Score: 0.00145\n",
      "Feature: 21, Score: 0.03573\n",
      "Feature: 22, Score: 0.00449\n",
      "Feature: 23, Score: 0.00490\n",
      "Feature: 24, Score: 0.14969\n",
      "Feature: 25, Score: 0.01623\n",
      "Feature: 26, Score: 0.00146\n",
      "Feature: 27, Score: 0.00077\n"
     ]
    },
    {
     "data": {
      "image/png": "[encoded data removed]",
      "text/plain": [
       "<Figure size 432x288 with 1 Axes>"
      ]
     },
     "metadata": {
      "needs_background": "light"
     },
     "output_type": "display_data"
    }
   ],
   "source": [
    "# To get importance features for decision tree model\n",
    "importance = decision_cf.feature_importances_\n",
    "# summarize feature importance\n",
    "for i,v in enumerate(importance):\n",
    "\tprint('Feature: %0d, Score: %.5f' % (i,v))\n",
    "# plot feature importance\n",
    "pyplot.bar([x for x in range(len(importance))], importance)\n",
    "pyplot.show()"
   ]
  },
  {
   "cell_type": "markdown",
   "metadata": {},
   "source": [
    "## Logistic Regression Classifier"
   ]
  },
  {
   "cell_type": "code",
   "execution_count": 45,
   "metadata": {},
   "outputs": [
    {
     "name": "stdout",
     "output_type": "stream",
     "text": [
      "Wall time: 454 ms\n"
     ]
    },
    {
     "name": "stderr",
     "output_type": "stream",
     "text": [
      "C:\\Users\\comp\\anaconda3\\lib\\site-packages\\sklearn\\linear_model\\_logistic.py:940: ConvergenceWarning: lbfgs failed to converge (status=1):\n",
      "STOP: TOTAL NO. of ITERATIONS REACHED LIMIT.\n",
      "\n",
      "Increase the number of iterations (max_iter) or scale the data as shown in:\n",
      "    https://scikit-learn.org/stable/modules/preprocessing.html\n",
      "Please also refer to the documentation for alternative solver options:\n",
      "    https://scikit-learn.org/stable/modules/linear_model.html#logistic-regression\n",
      "  extra_warning_msg=_LOGISTIC_SOLVER_CONVERGENCE_MSG)\n"
     ]
    },
    {
     "data": {
      "text/plain": [
       "LogisticRegression(C=1.0, class_weight=None, dual=False, fit_intercept=True,\n",
       "                   intercept_scaling=1, l1_ratio=None, max_iter=100,\n",
       "                   multi_class='auto', n_jobs=None, penalty='l2',\n",
       "                   random_state=42, solver='lbfgs', tol=0.0001, verbose=0,\n",
       "                   warm_start=False)"
      ]
     },
     "execution_count": 45,
     "metadata": {},
     "output_type": "execute_result"
    }
   ],
   "source": [
    "%%time\n",
    "## Logistic regression Classifier\n",
    "lr_cf = LogisticRegression(random_state=42)\n",
    "\n",
    "# fitting the model\n",
    "lr_cf.fit(X_train, y_train)"
   ]
  },
  {
   "cell_type": "code",
   "execution_count": 46,
   "metadata": {},
   "outputs": [
    {
     "data": {
      "text/plain": [
       "array([1, 0, 0, ..., 0, 1, 1])"
      ]
     },
     "execution_count": 46,
     "metadata": {},
     "output_type": "execute_result"
    }
   ],
   "source": [
    "## Model performance on test data\n",
    "y_pred_lr = lr_cf.predict(X_test)\n",
    "y_pred_lr"
   ]
  },
  {
   "cell_type": "code",
   "execution_count": 47,
   "metadata": {},
   "outputs": [
    {
     "data": {
      "text/plain": [
       "0    0.507313\n",
       "1    0.492687\n",
       "Name: pred, dtype: float64"
      ]
     },
     "execution_count": 47,
     "metadata": {},
     "output_type": "execute_result"
    }
   ],
   "source": [
    "# Satishfied or neutral or dissatishfied predictions for gradient boosting  model\n",
    "pred_df = pd.DataFrame(y_pred_lr, columns=['pred'])\n",
    "# Here 1 is satishfied and 0 is neutral or dissatishfied passengers\n",
    "pred_df['pred'].value_counts(normalize=True)"
   ]
  },
  {
   "cell_type": "code",
   "execution_count": 48,
   "metadata": {},
   "outputs": [
    {
     "name": "stdout",
     "output_type": "stream",
     "text": [
      "Accuracy score for Logistic Regression is 0.6893764434180139\n"
     ]
    }
   ],
   "source": [
    "## Model accuracy score\n",
    "acc_lr = accuracy_score(y_test, y_pred_lr)\n",
    "print(f'Accuracy score for Logistic Regression is {acc_lr}')"
   ]
  },
  {
   "cell_type": "markdown",
   "metadata": {},
   "source": [
    "Confusion matrix is classification metric to evaluate model performance."
   ]
  },
  {
   "cell_type": "code",
   "execution_count": 49,
   "metadata": {},
   "outputs": [
    {
     "data": {
      "text/plain": [
       "array([[1970,  948],\n",
       "       [ 666, 1612]], dtype=int64)"
      ]
     },
     "execution_count": 49,
     "metadata": {},
     "output_type": "execute_result"
    }
   ],
   "source": [
    "## Confusion Matrix\n",
    "confusion_matrix(y_test, y_pred_lr)"
   ]
  },
  {
   "cell_type": "markdown",
   "metadata": {},
   "source": [
    "Let us plot confusion matrix"
   ]
  },
  {
   "cell_type": "code",
   "execution_count": 50,
   "metadata": {},
   "outputs": [
    {
     "data": {
      "text/plain": [
       "<sklearn.metrics._plot.confusion_matrix.ConfusionMatrixDisplay at 0x14a802bfd88>"
      ]
     },
     "execution_count": 50,
     "metadata": {},
     "output_type": "execute_result"
    },
    {
     "data": {
      "image/png": "[encoded data removed]",
      "text/plain": [
       "<Figure size 432x288 with 2 Axes>"
      ]
     },
     "metadata": {
      "needs_background": "light"
     },
     "output_type": "display_data"
    }
   ],
   "source": [
    "## plot confusion matrix\n",
    "plot_confusion_matrix(lr_cf, X_test, y_test)"
   ]
  },
  {
   "cell_type": "code",
   "execution_count": 51,
   "metadata": {},
   "outputs": [
    {
     "name": "stdout",
     "output_type": "stream",
     "text": [
      "              precision    recall  f1-score   support\n",
      "\n",
      "           0       0.75      0.68      0.71      2918\n",
      "           1       0.63      0.71      0.67      2278\n",
      "\n",
      "    accuracy                           0.69      5196\n",
      "   macro avg       0.69      0.69      0.69      5196\n",
      "weighted avg       0.70      0.69      0.69      5196\n",
      "\n"
     ]
    }
   ],
   "source": [
    "## Classification report\n",
    "print(classification_report(y_test, y_pred_lr))"
   ]
  },
  {
   "cell_type": "markdown",
   "metadata": {},
   "source": [
    "Here, f1_score is 0.62 it means that the model is not performing well.\n",
    "\n",
    "ROC curve is usually as a metric to evaluate model performance for unbalanced data."
   ]
  },
  {
   "cell_type": "code",
   "execution_count": 52,
   "metadata": {},
   "outputs": [
    {
     "data": {
      "text/plain": [
       "<sklearn.metrics._plot.roc_curve.RocCurveDisplay at 0x14a80246448>"
      ]
     },
     "execution_count": 52,
     "metadata": {},
     "output_type": "execute_result"
    },
    {
     "data": {
      "image/png": "[encoded data removed]",
      "text/plain": [
       "<Figure size 432x288 with 1 Axes>"
      ]
     },
     "metadata": {
      "needs_background": "light"
     },
     "output_type": "display_data"
    }
   ],
   "source": [
    "## Roc curve\n",
    "plot_roc_curve(lr_cf, X_test, y_test)"
   ]
  },
  {
   "cell_type": "markdown",
   "metadata": {},
   "source": [
    "Here, area under curve is 0.75 it means that the model not performing well."
   ]
  },
  {
   "cell_type": "code",
   "execution_count": 53,
   "metadata": {},
   "outputs": [
    {
     "name": "stdout",
     "output_type": "stream",
     "text": [
      "Feature: 0, Score: -0.00001\n",
      "Feature: 1, Score: -0.02829\n",
      "Feature: 2, Score: 0.00037\n",
      "Feature: 3, Score: 0.06041\n",
      "Feature: 4, Score: -0.07953\n",
      "Feature: 5, Score: 0.01278\n",
      "Feature: 6, Score: -0.05870\n",
      "Feature: 7, Score: 0.02342\n",
      "Feature: 8, Score: 0.12587\n",
      "Feature: 9, Score: 0.06347\n",
      "Feature: 10, Score: 0.08625\n",
      "Feature: 11, Score: 0.05438\n",
      "Feature: 12, Score: 0.05229\n",
      "Feature: 13, Score: 0.02075\n",
      "Feature: 14, Score: 0.03018\n",
      "Feature: 15, Score: 0.01632\n",
      "Feature: 16, Score: 0.05632\n",
      "Feature: 17, Score: 0.04425\n",
      "Feature: 18, Score: -0.05116\n",
      "Feature: 19, Score: -0.01036\n",
      "Feature: 20, Score: -0.00699\n",
      "Feature: 21, Score: 0.00191\n",
      "Feature: 22, Score: -0.01926\n",
      "Feature: 23, Score: 0.04150\n",
      "Feature: 24, Score: -0.05885\n",
      "Feature: 25, Score: 0.05122\n",
      "Feature: 26, Score: -0.06121\n",
      "Feature: 27, Score: -0.00735\n"
     ]
    },
    {
     "data": {
      "image/png": "[encoded data removed]",
      "text/plain": [
       "<Figure size 432x288 with 1 Axes>"
      ]
     },
     "metadata": {
      "needs_background": "light"
     },
     "output_type": "display_data"
    }
   ],
   "source": [
    "# To get importance features for logistic regression model\n",
    "importance = lr_cf.coef_[0]\n",
    "# summarize feature importance\n",
    "for i,v in enumerate(importance):\n",
    "\tprint('Feature: %0d, Score: %.5f' % (i,v))\n",
    "# plot feature importance\n",
    "pyplot.bar([x for x in range(len(importance))], importance)\n",
    "pyplot.show()"
   ]
  },
  {
   "cell_type": "markdown",
   "metadata": {},
   "source": [
    "## Random Foreset Classfier"
   ]
  },
  {
   "cell_type": "code",
   "execution_count": 54,
   "metadata": {},
   "outputs": [
    {
     "name": "stdout",
     "output_type": "stream",
     "text": [
      "Wall time: 2.08 s\n"
     ]
    },
    {
     "data": {
      "text/plain": [
       "RandomForestClassifier(bootstrap=True, ccp_alpha=0.0, class_weight=None,\n",
       "                       criterion='gini', max_depth=None, max_features='auto',\n",
       "                       max_leaf_nodes=None, max_samples=None,\n",
       "                       min_impurity_decrease=0.0, min_impurity_split=None,\n",
       "                       min_samples_leaf=1, min_samples_split=2,\n",
       "                       min_weight_fraction_leaf=0.0, n_estimators=100,\n",
       "                       n_jobs=None, oob_score=False, random_state=42, verbose=0,\n",
       "                       warm_start=False)"
      ]
     },
     "execution_count": 54,
     "metadata": {},
     "output_type": "execute_result"
    }
   ],
   "source": [
    "%%time\n",
    "## Random Forest Classifier\n",
    "rf_cf = RandomForestClassifier(random_state=42)\n",
    "\n",
    "# fitting the model\n",
    "rf_cf.fit(X_train, y_train)"
   ]
  },
  {
   "cell_type": "code",
   "execution_count": 55,
   "metadata": {},
   "outputs": [
    {
     "data": {
      "text/plain": [
       "array([1, 0, 0, ..., 0, 0, 1])"
      ]
     },
     "execution_count": 55,
     "metadata": {},
     "output_type": "execute_result"
    }
   ],
   "source": [
    "## Model performance on test data\n",
    "y_pred_rf = rf_cf.predict(X_test)\n",
    "y_pred_rf"
   ]
  },
  {
   "cell_type": "code",
   "execution_count": 56,
   "metadata": {},
   "outputs": [
    {
     "data": {
      "text/plain": [
       "0    0.571786\n",
       "1    0.428214\n",
       "Name: pred, dtype: float64"
      ]
     },
     "execution_count": 56,
     "metadata": {},
     "output_type": "execute_result"
    }
   ],
   "source": [
    "# Satishfied or neutral or dissatishfied predictions for Random forest model\n",
    "pred_df = pd.DataFrame(y_pred_rf, columns=['pred'])\n",
    "# Here 1 is satishfied and 0 is neutral or dissatishfied passengers\n",
    "pred_df['pred'].value_counts(normalize=True)"
   ]
  },
  {
   "cell_type": "code",
   "execution_count": 57,
   "metadata": {},
   "outputs": [
    {
     "name": "stdout",
     "output_type": "stream",
     "text": [
      "Accuracy score for Random  Forest Classifier is 0.9609314857582756\n"
     ]
    }
   ],
   "source": [
    "## Model accuracy score\n",
    "acc_rf = accuracy_score(y_test, y_pred_rf)\n",
    "print(f'Accuracy score for Random  Forest Classifier is {acc_rf}')"
   ]
  },
  {
   "cell_type": "markdown",
   "metadata": {},
   "source": [
    "Confusion matrix is classification metric to evaluate model performance."
   ]
  },
  {
   "cell_type": "code",
   "execution_count": 58,
   "metadata": {},
   "outputs": [
    {
     "data": {
      "text/plain": [
       "array([[2843,   75],\n",
       "       [ 128, 2150]], dtype=int64)"
      ]
     },
     "execution_count": 58,
     "metadata": {},
     "output_type": "execute_result"
    }
   ],
   "source": [
    "## Confusion Matrix\n",
    "confusion_matrix(y_test, y_pred_rf)"
   ]
  },
  {
   "cell_type": "markdown",
   "metadata": {},
   "source": [
    "Let us plot a random forest,"
   ]
  },
  {
   "cell_type": "code",
   "execution_count": 59,
   "metadata": {},
   "outputs": [
    {
     "data": {
      "text/plain": [
       "<sklearn.metrics._plot.confusion_matrix.ConfusionMatrixDisplay at 0x14a803a1548>"
      ]
     },
     "execution_count": 59,
     "metadata": {},
     "output_type": "execute_result"
    },
    {
     "data": {
      "image/png": "[encoded data removed]",
      "text/plain": [
       "<Figure size 432x288 with 2 Axes>"
      ]
     },
     "metadata": {
      "needs_background": "light"
     },
     "output_type": "display_data"
    }
   ],
   "source": [
    "## plot confusion matrix\n",
    "plot_confusion_matrix(rf_cf, X_test, y_test)"
   ]
  },
  {
   "cell_type": "code",
   "execution_count": 60,
   "metadata": {},
   "outputs": [
    {
     "name": "stdout",
     "output_type": "stream",
     "text": [
      "              precision    recall  f1-score   support\n",
      "\n",
      "           0       0.96      0.97      0.97      2918\n",
      "           1       0.97      0.94      0.95      2278\n",
      "\n",
      "    accuracy                           0.96      5196\n",
      "   macro avg       0.96      0.96      0.96      5196\n",
      "weighted avg       0.96      0.96      0.96      5196\n",
      "\n"
     ]
    }
   ],
   "source": [
    "## Classification report\n",
    "print(classification_report(y_test, y_pred_rf))"
   ]
  },
  {
   "cell_type": "markdown",
   "metadata": {},
   "source": [
    "Here, f1_score is 0.96 it means that the model is performing well.\n",
    "\n",
    "ROC curve is usually as a metric to evaluate model performance for unbalanced data."
   ]
  },
  {
   "cell_type": "code",
   "execution_count": 61,
   "metadata": {},
   "outputs": [
    {
     "data": {
      "text/plain": [
       "<sklearn.metrics._plot.roc_curve.RocCurveDisplay at 0x14a81203bc8>"
      ]
     },
     "execution_count": 61,
     "metadata": {},
     "output_type": "execute_result"
    },
    {
     "data": {
      "image/png": "[encoded data removed]",
      "text/plain": [
       "<Figure size 432x288 with 1 Axes>"
      ]
     },
     "metadata": {
      "needs_background": "light"
     },
     "output_type": "display_data"
    }
   ],
   "source": [
    "## Roc curve\n",
    "plot_roc_curve(rf_cf, X_test, y_test)"
   ]
  },
  {
   "cell_type": "markdown",
   "metadata": {},
   "source": [
    "Here, area under curve is 0.99 it means that the model performing well."
   ]
  },
  {
   "cell_type": "code",
   "execution_count": 62,
   "metadata": {},
   "outputs": [
    {
     "name": "stdout",
     "output_type": "stream",
     "text": [
      "Feature: 0, Score: 0.02850\n",
      "Feature: 1, Score: 0.02771\n",
      "Feature: 2, Score: 0.03205\n",
      "Feature: 3, Score: 0.13415\n",
      "Feature: 4, Score: 0.01404\n",
      "Feature: 5, Score: 0.03847\n",
      "Feature: 6, Score: 0.01293\n",
      "Feature: 7, Score: 0.01024\n",
      "Feature: 8, Score: 0.14648\n",
      "Feature: 9, Score: 0.04786\n",
      "Feature: 10, Score: 0.04833\n",
      "Feature: 11, Score: 0.02225\n",
      "Feature: 12, Score: 0.02950\n",
      "Feature: 13, Score: 0.02472\n",
      "Feature: 14, Score: 0.02489\n",
      "Feature: 15, Score: 0.02493\n",
      "Feature: 16, Score: 0.02578\n",
      "Feature: 17, Score: 0.00987\n",
      "Feature: 18, Score: 0.01156\n",
      "Feature: 19, Score: 0.00292\n",
      "Feature: 20, Score: 0.00324\n",
      "Feature: 21, Score: 0.02692\n",
      "Feature: 22, Score: 0.02560\n",
      "Feature: 23, Score: 0.05669\n",
      "Feature: 24, Score: 0.06138\n",
      "Feature: 25, Score: 0.07490\n",
      "Feature: 26, Score: 0.03231\n",
      "Feature: 27, Score: 0.00177\n"
     ]
    },
    {
     "data": {
      "image/png": "[encoded data removed]",
      "text/plain": [
       "<Figure size 432x288 with 1 Axes>"
      ]
     },
     "metadata": {
      "needs_background": "light"
     },
     "output_type": "display_data"
    }
   ],
   "source": [
    "# To get importance features for Random Forest model\n",
    "importance = rf_cf.feature_importances_\n",
    "# summarize feature importance\n",
    "for i,v in enumerate(importance):\n",
    "\tprint('Feature: %0d, Score: %.5f' % (i,v))\n",
    "# plot feature importance\n",
    "pyplot.bar([x for x in range(len(importance))], importance)\n",
    "pyplot.show()"
   ]
  },
  {
   "cell_type": "markdown",
   "metadata": {},
   "source": [
    "### Comparison of models"
   ]
  },
  {
   "cell_type": "code",
   "execution_count": 63,
   "metadata": {},
   "outputs": [
    {
     "data": {
      "text/html": [
       "<div>\n",
       "<style scoped>\n",
       "    .dataframe tbody tr th:only-of-type {\n",
       "        vertical-align: middle;\n",
       "    }\n",
       "\n",
       "    .dataframe tbody tr th {\n",
       "        vertical-align: top;\n",
       "    }\n",
       "\n",
       "    .dataframe thead th {\n",
       "        text-align: right;\n",
       "    }\n",
       "</style>\n",
       "<table border=\"1\" class=\"dataframe\">\n",
       "  <thead>\n",
       "    <tr style=\"text-align: right;\">\n",
       "      <th></th>\n",
       "      <th>Model</th>\n",
       "      <th>Accuracy</th>\n",
       "      <th>f1_score</th>\n",
       "      <th>auc</th>\n",
       "    </tr>\n",
       "  </thead>\n",
       "  <tbody>\n",
       "    <tr>\n",
       "      <th>0</th>\n",
       "      <td>Decision_Tree</td>\n",
       "      <td>0.93</td>\n",
       "      <td>0.94</td>\n",
       "      <td>0.93</td>\n",
       "    </tr>\n",
       "    <tr>\n",
       "      <th>1</th>\n",
       "      <td>Logistic_Regression</td>\n",
       "      <td>0.67</td>\n",
       "      <td>0.68</td>\n",
       "      <td>0.75</td>\n",
       "    </tr>\n",
       "    <tr>\n",
       "      <th>2</th>\n",
       "      <td>Random_Forest</td>\n",
       "      <td>0.95</td>\n",
       "      <td>0.96</td>\n",
       "      <td>0.99</td>\n",
       "    </tr>\n",
       "  </tbody>\n",
       "</table>\n",
       "</div>"
      ],
      "text/plain": [
       "                 Model  Accuracy  f1_score   auc\n",
       "0        Decision_Tree      0.93      0.94  0.93\n",
       "1  Logistic_Regression      0.67      0.68  0.75\n",
       "2        Random_Forest      0.95      0.96  0.99"
      ]
     },
     "execution_count": 63,
     "metadata": {},
     "output_type": "execute_result"
    }
   ],
   "source": [
    "model = ['Decision_Tree', 'Logistic_Regression','Random_Forest']\n",
    "results = pd.DataFrame(model, columns=['Model'])\n",
    "acc = [0.93, 0.67, 0.95]\n",
    "f1_score = [0.94, 0.68, 0.96]\n",
    "auc = [0.93, 0.75, 0.99] # auc - Area under curve\n",
    "\n",
    "results['Accuracy'] = pd.DataFrame(acc)\n",
    "results['f1_score'] = pd.DataFrame(f1_score)\n",
    "results['auc'] = pd.DataFrame(auc)\n",
    "results"
   ]
  },
  {
   "cell_type": "code",
   "execution_count": null,
   "metadata": {},
   "outputs": [],
   "source": []
  }
 ],
 "metadata": {
  "kernelspec": {
   "display_name": "Python 3",
   "language": "python",
   "name": "python3"
  },
  "language_info": {
   "codemirror_mode": {
    "name": "ipython",
    "version": 3
   },
   "file_extension": ".py",
   "mimetype": "text/x-python",
   "name": "python",
   "nbconvert_exporter": "python",
   "pygments_lexer": "ipython3",
   "version": "3.7.6"
  }
 },
 "nbformat": 4,
 "nbformat_minor": 4
}
